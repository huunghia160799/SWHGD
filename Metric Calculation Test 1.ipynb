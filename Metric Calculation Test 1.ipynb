{
 "cells": [
  {
   "cell_type": "code",
   "execution_count": 1,
   "metadata": {},
   "outputs": [],
   "source": [
    "import numpy as np\n",
    "import pandas as pd\n",
    "import matplotlib.pyplot as plt\n",
    "import seaborn as sbs\n",
    "import multiprocessing \n",
    "import os\n",
    "\n",
    "number_of_indexes = [519, 1100, 560, 1200, 521, 1100]"
   ]
  },
  {
   "cell_type": "code",
   "execution_count": 2,
   "metadata": {},
   "outputs": [],
   "source": [
    "def longevity_table_assemble(i):\n",
    "    info(i)\n",
    "    char_i = i+97\n",
    "    longevity_table = pd.DataFrame()\n",
    "    \n",
    "    tmp_longevity_table = pd.read_csv('/home/sv/longevity-a'+ chr(char_i) +'.csv.gz', encoding='utf-8', header=None, chunksize=10000, compression='gzip')\n",
    "    tmp_longevity_table = pd.concat(tmp_longevity_table, ignore_index=True)\n",
    "    tmp_longevity_table.columns = [\"snapshot_id\",\"longevity\"]\n",
    "    input_data = pd.merge(tmp_longevity_table, random_snapshot_table, sort=True).drop_duplicates()\n",
    "    longevity_table = longevity_table.append(input_data, ignore_index=True)\n",
    "    return longevity_table\n",
    "    \n",
    "#longevity_table"
   ]
  },
  {
   "cell_type": "code",
   "execution_count": 3,
   "metadata": {},
   "outputs": [],
   "source": [
    "def cycle_time_table_assemble(i):\n",
    "    info(i)\n",
    "    char_i = i+97\n",
    "    cycle_time_table = pd.DataFrame()\n",
    "\n",
    "    tmp_cycle_time_table = pd.read_csv('/home/sv/cycle_time_release_a'+ chr(i) +'.csv.gz', encoding='utf-8', header=None, chunksize=10000, compression='gzip')\n",
    "    tmp_cycle_time_table = pd.concat(tmp_cycle_time_table, ignore_index=True)\n",
    "    tmp_cycle_time_table.columns = [\"snapshot_id\",\"avg_cycle_time\"]\n",
    "    input_data = pd.merge(tmp_cycle_time_table, random_snapshot_table, sort=True).drop_duplicates()\n",
    "    cycle_time_table = cycle_time_table.append(input_data, ignore_index=True)\n",
    "    return cycle_time_table"
   ]
  },
  {
   "cell_type": "code",
   "execution_count": 4,
   "metadata": {},
   "outputs": [],
   "source": [
    "def info(title):\n",
    "    print(title)\n",
    "    print('module name:', __name__)\n",
    "    print('parent process:', os.getppid())\n",
    "    print('process id:', os.getpid())"
   ]
  },
  {
   "cell_type": "code",
   "execution_count": 5,
   "metadata": {},
   "outputs": [],
   "source": [
    "if __name__ == '__main__':\n",
    "    randomSnapshot=pd.read_csv(\"/home/sv/random_snapshot.csv\")\n",
    "    randomSnapshotLink=pd.read_csv(\"/home/sv/random_snapshot_urls.csv\")\n",
    "    randomSnapshotDetails=pd.read_csv(\"/home/sv/random_snapshot_url_with_data.csv\")\n",
    "    randomSnapshot= pd.merge(randomSnapshot, randomSnapshotLink, left_index=True, right_index=True)"
   ]
  },
  {
   "cell_type": "code",
   "execution_count": 6,
   "metadata": {},
   "outputs": [],
   "source": [
    "    randomSnapshotFull = pd.merge(randomSnapshot, randomSnapshotDetails, sort=True).drop_duplicates()\n",
    "    randomSnapshotFull = randomSnapshotFull[randomSnapshotFull['stargazers_count'].notnull()]"
   ]
  },
  {
   "cell_type": "code",
   "execution_count": 7,
   "metadata": {},
   "outputs": [],
   "source": [
    "    random_snapshot_table = pd.DataFrame()\n",
    "    random_snapshot_table.head()\n",
    "    for i in range(0,6):\n",
    "        random_snap_tmp_table = pd.read_csv('/var/lib/neo4j/import/random_snapshot_part_0' + str(i) + '.csv', nrows=number_of_indexes[i], header=None)\n",
    "        random_snapshot_table = random_snapshot_table.append(random_snap_tmp_table, ignore_index=True)\n",
    "    \n",
    "    random_snapshot_table.columns = [\"snapshot_id\"]\n",
    "    #random_snapshot_table"
   ]
  },
  {
   "cell_type": "code",
   "execution_count": 8,
   "metadata": {},
   "outputs": [],
   "source": [
    "    fivek_snapshot_table = pd.merge(randomSnapshotFull, random_snapshot_table, sort=True).drop_duplicates()\n",
    "    #fivek_snapshot_table"
   ]
  },
  {
   "cell_type": "code",
   "execution_count": 9,
   "metadata": {},
   "outputs": [],
   "source": [
    "    fivek_snapshot_table_nolink = fivek_snapshot_table.drop(columns=[\"snapshot_urls\"])\n",
    "    #fivek_snapshot_table_nolink"
   ]
  },
  {
   "cell_type": "code",
   "execution_count": null,
   "metadata": {
    "scrolled": false
   },
   "outputs": [
    {
     "name": "stdout",
     "output_type": "stream",
     "text": [
      "2\n",
      "4\n",
      "0\n",
      "5\n",
      "3\n",
      "1\n",
      "('module name:', '__main__')\n",
      "('module name:', '__main__')\n",
      "('module name:', '__main__')\n",
      "('parent process:', 5791)\n",
      "('parent process:', 5791)\n",
      "('process id:', 5820)\n",
      "('process id:', 5817)\n",
      "('module name:', '__main__')\n",
      "('module name:', '__main__')\n",
      "('parent process:', 5791)\n",
      "('module name:', '__main__')\n",
      "('process id:', 5822)\n",
      "('parent process:', 5791)\n",
      "('process id:', 5821)\n",
      "('parent process:', 5791)\n",
      "('process id:', 5819)\n",
      "('parent process:', 5791)\n",
      "('process id:', 5818)\n"
     ]
    }
   ],
   "source": [
    "    pool1 = multiprocessing.Pool()\n",
    "    longevity_table_map = pool1.map(longevity_table_assemble, range(0,6))\n",
    "    pool1.close()\n",
    "    pool1.join()"
   ]
  },
  {
   "cell_type": "code",
   "execution_count": null,
   "metadata": {},
   "outputs": [],
   "source": [
    "    pool2 = multiprocessing.Pool()\n",
    "    cycle_table_map = pool2.map(cycle_time_table_assemble, range(0,6))\n",
    "    pool2.close()\n",
    "    pool2.join()"
   ]
  },
  {
   "cell_type": "code",
   "execution_count": null,
   "metadata": {},
   "outputs": [],
   "source": []
  }
 ],
 "metadata": {
  "kernelspec": {
   "display_name": "Python 3",
   "language": "python",
   "name": "python3"
  },
  "language_info": {
   "codemirror_mode": {
    "name": "ipython",
    "version": 2
   },
   "file_extension": ".py",
   "mimetype": "text/x-python",
   "name": "python",
   "nbconvert_exporter": "python",
   "pygments_lexer": "ipython2",
   "version": "2.7.17"
  }
 },
 "nbformat": 4,
 "nbformat_minor": 2
}
