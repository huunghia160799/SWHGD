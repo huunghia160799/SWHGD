{
 "cells": [
  {
   "cell_type": "code",
   "execution_count": 1,
   "metadata": {},
   "outputs": [],
   "source": [
    "import pandas as pd\n",
    "import numpy as np"
   ]
  },
  {
   "cell_type": "code",
   "execution_count": 2,
   "metadata": {},
   "outputs": [],
   "source": [
    "revision_point = pd.read_csv('/mnt/17volume/data/snapshot_fork_revision.csv')"
   ]
  },
  {
   "cell_type": "code",
   "execution_count": 3,
   "metadata": {},
   "outputs": [
    {
     "name": "stdout",
     "output_type": "stream",
     "text": [
      "<class 'pandas.core.frame.DataFrame'>\n",
      "RangeIndex: 1000 entries, 0 to 999\n",
      "Data columns (total 6 columns):\n",
      "snapshot_id       1000 non-null int64\n",
      "committer_date    1000 non-null int64\n",
      "author            1000 non-null int64\n",
      "committer         1000 non-null int64\n",
      "date              1000 non-null int64\n",
      "fork_id           1000 non-null int64\n",
      "dtypes: int64(6)\n",
      "memory usage: 46.9 KB\n"
     ]
    }
   ],
   "source": [
    "revision_point.info()"
   ]
  },
  {
   "cell_type": "code",
   "execution_count": 4,
   "metadata": {},
   "outputs": [
    {
     "data": {
      "text/html": [
       "<div>\n",
       "<style scoped>\n",
       "    .dataframe tbody tr th:only-of-type {\n",
       "        vertical-align: middle;\n",
       "    }\n",
       "\n",
       "    .dataframe tbody tr th {\n",
       "        vertical-align: top;\n",
       "    }\n",
       "\n",
       "    .dataframe thead th {\n",
       "        text-align: right;\n",
       "    }\n",
       "</style>\n",
       "<table border=\"1\" class=\"dataframe\">\n",
       "  <thead>\n",
       "    <tr style=\"text-align: right;\">\n",
       "      <th></th>\n",
       "      <th>snapshot_id</th>\n",
       "      <th>committer_date</th>\n",
       "      <th>author</th>\n",
       "      <th>committer</th>\n",
       "      <th>date</th>\n",
       "      <th>fork_id</th>\n",
       "    </tr>\n",
       "  </thead>\n",
       "  <tbody>\n",
       "    <tr>\n",
       "      <th>0</th>\n",
       "      <td>10000</td>\n",
       "      <td>1421228792</td>\n",
       "      <td>31614</td>\n",
       "      <td>31614</td>\n",
       "      <td>1421228792</td>\n",
       "      <td>22922166</td>\n",
       "    </tr>\n",
       "    <tr>\n",
       "      <th>1</th>\n",
       "      <td>10000</td>\n",
       "      <td>1420815984</td>\n",
       "      <td>31614</td>\n",
       "      <td>31614</td>\n",
       "      <td>1420815984</td>\n",
       "      <td>22922166</td>\n",
       "    </tr>\n",
       "    <tr>\n",
       "      <th>2</th>\n",
       "      <td>10000</td>\n",
       "      <td>1420815984</td>\n",
       "      <td>31614</td>\n",
       "      <td>31614</td>\n",
       "      <td>1420815984</td>\n",
       "      <td>29333801</td>\n",
       "    </tr>\n",
       "    <tr>\n",
       "      <th>3</th>\n",
       "      <td>10000</td>\n",
       "      <td>1420815984</td>\n",
       "      <td>31614</td>\n",
       "      <td>31614</td>\n",
       "      <td>1420815984</td>\n",
       "      <td>41493393</td>\n",
       "    </tr>\n",
       "    <tr>\n",
       "      <th>4</th>\n",
       "      <td>10000</td>\n",
       "      <td>1420820287</td>\n",
       "      <td>31614</td>\n",
       "      <td>31614</td>\n",
       "      <td>1420820287</td>\n",
       "      <td>22922166</td>\n",
       "    </tr>\n",
       "  </tbody>\n",
       "</table>\n",
       "</div>"
      ],
      "text/plain": [
       "   snapshot_id  committer_date  author  committer        date   fork_id\n",
       "0        10000      1421228792   31614      31614  1421228792  22922166\n",
       "1        10000      1420815984   31614      31614  1420815984  22922166\n",
       "2        10000      1420815984   31614      31614  1420815984  29333801\n",
       "3        10000      1420815984   31614      31614  1420815984  41493393\n",
       "4        10000      1420820287   31614      31614  1420820287  22922166"
      ]
     },
     "execution_count": 4,
     "metadata": {},
     "output_type": "execute_result"
    }
   ],
   "source": [
    "revision_point.head()"
   ]
  },
  {
   "cell_type": "code",
   "execution_count": 5,
   "metadata": {},
   "outputs": [],
   "source": [
    "revision_point = revision_point.sort_values(by=['date'], ascending=False)"
   ]
  },
  {
   "cell_type": "code",
   "execution_count": 6,
   "metadata": {},
   "outputs": [
    {
     "data": {
      "text/html": [
       "<div>\n",
       "<style scoped>\n",
       "    .dataframe tbody tr th:only-of-type {\n",
       "        vertical-align: middle;\n",
       "    }\n",
       "\n",
       "    .dataframe tbody tr th {\n",
       "        vertical-align: top;\n",
       "    }\n",
       "\n",
       "    .dataframe thead th {\n",
       "        text-align: right;\n",
       "    }\n",
       "</style>\n",
       "<table border=\"1\" class=\"dataframe\">\n",
       "  <thead>\n",
       "    <tr style=\"text-align: right;\">\n",
       "      <th></th>\n",
       "      <th>snapshot_id</th>\n",
       "      <th>committer_date</th>\n",
       "      <th>author</th>\n",
       "      <th>committer</th>\n",
       "      <th>date</th>\n",
       "      <th>fork_id</th>\n",
       "    </tr>\n",
       "  </thead>\n",
       "  <tbody>\n",
       "    <tr>\n",
       "      <th>345</th>\n",
       "      <td>100008</td>\n",
       "      <td>1439219992</td>\n",
       "      <td>116206</td>\n",
       "      <td>116206</td>\n",
       "      <td>1439219992</td>\n",
       "      <td>37873631</td>\n",
       "    </tr>\n",
       "    <tr>\n",
       "      <th>324</th>\n",
       "      <td>100008</td>\n",
       "      <td>1439219992</td>\n",
       "      <td>116206</td>\n",
       "      <td>116206</td>\n",
       "      <td>1439219992</td>\n",
       "      <td>24471196</td>\n",
       "    </tr>\n",
       "    <tr>\n",
       "      <th>335</th>\n",
       "      <td>100008</td>\n",
       "      <td>1439219992</td>\n",
       "      <td>116206</td>\n",
       "      <td>116206</td>\n",
       "      <td>1439219992</td>\n",
       "      <td>33090937</td>\n",
       "    </tr>\n",
       "    <tr>\n",
       "      <th>334</th>\n",
       "      <td>100008</td>\n",
       "      <td>1439219992</td>\n",
       "      <td>116206</td>\n",
       "      <td>116206</td>\n",
       "      <td>1439219992</td>\n",
       "      <td>32484283</td>\n",
       "    </tr>\n",
       "    <tr>\n",
       "      <th>333</th>\n",
       "      <td>100008</td>\n",
       "      <td>1439219992</td>\n",
       "      <td>116206</td>\n",
       "      <td>116206</td>\n",
       "      <td>1439219992</td>\n",
       "      <td>31307392</td>\n",
       "    </tr>\n",
       "  </tbody>\n",
       "</table>\n",
       "</div>"
      ],
      "text/plain": [
       "     snapshot_id  committer_date  author  committer        date   fork_id\n",
       "345       100008      1439219992  116206     116206  1439219992  37873631\n",
       "324       100008      1439219992  116206     116206  1439219992  24471196\n",
       "335       100008      1439219992  116206     116206  1439219992  33090937\n",
       "334       100008      1439219992  116206     116206  1439219992  32484283\n",
       "333       100008      1439219992  116206     116206  1439219992  31307392"
      ]
     },
     "execution_count": 6,
     "metadata": {},
     "output_type": "execute_result"
    }
   ],
   "source": [
    "revision_point.head()"
   ]
  },
  {
   "cell_type": "code",
   "execution_count": 7,
   "metadata": {},
   "outputs": [
    {
     "name": "stdout",
     "output_type": "stream",
     "text": [
      "[327, 352, 287, 330, 305, 161, 337, 59, 117, 45, 360, 249, 291, 552, 176, 201, 355, 312, 321, 771, 26, 54, 273, 135, 333, 347, 732, 316, 346, 38, 324, 85, 20, 348, 310, 689, 353, 81, 58, 358, 519, 362, 614, 298, 76, 338, 284, 314, 315, 227, 319, 46, 23, 359, 329, 150, 592, 649, 198, 654, 332, 91, 336, 171, 276, 603, 604, 322, 354, 357, 320, 331, 339, 344, 340, 244, 350, 31, 325, 684, 30, 64, 219, 328, 246, 335, 77, 90, 302, 652, 341, 21, 356, 70, 237, 343, 323, 42, 317, 47, 349, 334, 197, 361, 326, 269, 351, 22, 65, 289, 342, 795, 345, 266, 49, 318, 313, 251, 311, 16, 12, 3]\n",
      "('Number of forks to keep', 122)\n"
     ]
    }
   ],
   "source": [
    "snapshot_dicts = dict()\n",
    "for i, row in revision_point.iterrows():\n",
    "    snapshot_id = row['snapshot_id']\n",
    "    fork_snapshot_id = row['fork_id']\n",
    "    if snapshot_id not in snapshot_dicts:\n",
    "        snapshot_dicts[snapshot_id] = dict()\n",
    "    snapshot_dict = snapshot_dicts[snapshot_id]\n",
    "    if fork_snapshot_id not in snapshot_dict:\n",
    "        snapshot_dict[fork_snapshot_id] = i\n",
    "    else:\n",
    "        if revision_point.at[snapshot_dict[fork_snapshot_id], 'date'] < row['date']:\n",
    "            snapshot_dict[fork_snapshot_id] = i\n",
    "\n",
    "rows_to_keep = []\n",
    "for i, snapshot_dict in snapshot_dicts.items():\n",
    "    for j, fork_snapshot_row_idx in snapshot_dict.items():\n",
    "        rows_to_keep.append(fork_snapshot_row_idx)\n",
    "print(rows_to_keep)\n",
    "print(\"Number of forks to keep\", len(rows_to_keep))"
   ]
  },
  {
   "cell_type": "code",
   "execution_count": 8,
   "metadata": {},
   "outputs": [],
   "source": [
    "snapshot_fork_revision_duplicated_removed = revision_point[revision_point.index.isin(rows_to_keep)].reset_index()"
   ]
  },
  {
   "cell_type": "code",
   "execution_count": 9,
   "metadata": {},
   "outputs": [
    {
     "data": {
      "text/html": [
       "<div>\n",
       "<style scoped>\n",
       "    .dataframe tbody tr th:only-of-type {\n",
       "        vertical-align: middle;\n",
       "    }\n",
       "\n",
       "    .dataframe tbody tr th {\n",
       "        vertical-align: top;\n",
       "    }\n",
       "\n",
       "    .dataframe thead th {\n",
       "        text-align: right;\n",
       "    }\n",
       "</style>\n",
       "<table border=\"1\" class=\"dataframe\">\n",
       "  <thead>\n",
       "    <tr style=\"text-align: right;\">\n",
       "      <th></th>\n",
       "      <th>index</th>\n",
       "      <th>snapshot_id</th>\n",
       "      <th>committer_date</th>\n",
       "      <th>author</th>\n",
       "      <th>committer</th>\n",
       "      <th>date</th>\n",
       "      <th>fork_id</th>\n",
       "    </tr>\n",
       "  </thead>\n",
       "  <tbody>\n",
       "    <tr>\n",
       "      <th>0</th>\n",
       "      <td>345</td>\n",
       "      <td>100008</td>\n",
       "      <td>1439219992</td>\n",
       "      <td>116206</td>\n",
       "      <td>116206</td>\n",
       "      <td>1439219992</td>\n",
       "      <td>37873631</td>\n",
       "    </tr>\n",
       "    <tr>\n",
       "      <th>1</th>\n",
       "      <td>324</td>\n",
       "      <td>100008</td>\n",
       "      <td>1439219992</td>\n",
       "      <td>116206</td>\n",
       "      <td>116206</td>\n",
       "      <td>1439219992</td>\n",
       "      <td>24471196</td>\n",
       "    </tr>\n",
       "    <tr>\n",
       "      <th>2</th>\n",
       "      <td>335</td>\n",
       "      <td>100008</td>\n",
       "      <td>1439219992</td>\n",
       "      <td>116206</td>\n",
       "      <td>116206</td>\n",
       "      <td>1439219992</td>\n",
       "      <td>33090937</td>\n",
       "    </tr>\n",
       "    <tr>\n",
       "      <th>3</th>\n",
       "      <td>334</td>\n",
       "      <td>100008</td>\n",
       "      <td>1439219992</td>\n",
       "      <td>116206</td>\n",
       "      <td>116206</td>\n",
       "      <td>1439219992</td>\n",
       "      <td>32484283</td>\n",
       "    </tr>\n",
       "    <tr>\n",
       "      <th>4</th>\n",
       "      <td>333</td>\n",
       "      <td>100008</td>\n",
       "      <td>1439219992</td>\n",
       "      <td>116206</td>\n",
       "      <td>116206</td>\n",
       "      <td>1439219992</td>\n",
       "      <td>31307392</td>\n",
       "    </tr>\n",
       "  </tbody>\n",
       "</table>\n",
       "</div>"
      ],
      "text/plain": [
       "   index  snapshot_id  committer_date  author  committer        date   fork_id\n",
       "0    345       100008      1439219992  116206     116206  1439219992  37873631\n",
       "1    324       100008      1439219992  116206     116206  1439219992  24471196\n",
       "2    335       100008      1439219992  116206     116206  1439219992  33090937\n",
       "3    334       100008      1439219992  116206     116206  1439219992  32484283\n",
       "4    333       100008      1439219992  116206     116206  1439219992  31307392"
      ]
     },
     "execution_count": 9,
     "metadata": {},
     "output_type": "execute_result"
    }
   ],
   "source": [
    "snapshot_fork_revision_duplicated_removed.head()"
   ]
  },
  {
   "cell_type": "code",
   "execution_count": 10,
   "metadata": {},
   "outputs": [],
   "source": [
    "snapshot_fork_revision_duplicated_removed.to_csv(\"snapshot_fork_revision_duplicates_removed.csv\", index=False)"
   ]
  }
 ],
 "metadata": {
  "kernelspec": {
   "display_name": "Python 3",
   "language": "python",
   "name": "python3"
  },
  "language_info": {
   "codemirror_mode": {
    "name": "ipython",
    "version": 2
   },
   "file_extension": ".py",
   "mimetype": "text/x-python",
   "name": "python",
   "nbconvert_exporter": "python",
   "pygments_lexer": "ipython2",
   "version": "2.7.17"
  }
 },
 "nbformat": 4,
 "nbformat_minor": 2
}
