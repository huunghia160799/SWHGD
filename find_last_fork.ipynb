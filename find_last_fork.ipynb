{
 "cells": [
  {
   "cell_type": "code",
   "execution_count": 7,
   "metadata": {},
   "outputs": [],
   "source": [
    "import pandas as pd\n",
    "import numpy as np"
   ]
  },
  {
   "cell_type": "code",
   "execution_count": 2,
   "metadata": {},
   "outputs": [
    {
     "data": {
      "text/html": [
       "<div>\n",
       "<style scoped>\n",
       "    .dataframe tbody tr th:only-of-type {\n",
       "        vertical-align: middle;\n",
       "    }\n",
       "\n",
       "    .dataframe tbody tr th {\n",
       "        vertical-align: top;\n",
       "    }\n",
       "\n",
       "    .dataframe thead th {\n",
       "        text-align: right;\n",
       "    }\n",
       "</style>\n",
       "<table border=\"1\" class=\"dataframe\">\n",
       "  <thead>\n",
       "    <tr style=\"text-align: right;\">\n",
       "      <th></th>\n",
       "      <th>snapshot_id</th>\n",
       "      <th>node.id</th>\n",
       "    </tr>\n",
       "  </thead>\n",
       "  <tbody>\n",
       "    <tr>\n",
       "      <th>0</th>\n",
       "      <td>929562</td>\n",
       "      <td>b9e8521821bb095da8e7f65f3b2bf83747addbe6</td>\n",
       "    </tr>\n",
       "    <tr>\n",
       "      <th>1</th>\n",
       "      <td>1053501</td>\n",
       "      <td>72dd3230aa990473df569d8a17d589fec933401d</td>\n",
       "    </tr>\n",
       "    <tr>\n",
       "      <th>2</th>\n",
       "      <td>1053501</td>\n",
       "      <td>879c3ebb01015911091ff856d315ddc821328093</td>\n",
       "    </tr>\n",
       "    <tr>\n",
       "      <th>3</th>\n",
       "      <td>1338295</td>\n",
       "      <td>3d6f7f74e103b8c827c1f88803141c9bcbbfb089</td>\n",
       "    </tr>\n",
       "    <tr>\n",
       "      <th>4</th>\n",
       "      <td>1493487</td>\n",
       "      <td>98f7f6f228283aec1e07d274b8664acbdc27a7d2</td>\n",
       "    </tr>\n",
       "  </tbody>\n",
       "</table>\n",
       "</div>"
      ],
      "text/plain": [
       "   snapshot_id                                   node.id\n",
       "0       929562  b9e8521821bb095da8e7f65f3b2bf83747addbe6\n",
       "1      1053501  72dd3230aa990473df569d8a17d589fec933401d\n",
       "2      1053501  879c3ebb01015911091ff856d315ddc821328093\n",
       "3      1338295  3d6f7f74e103b8c827c1f88803141c9bcbbfb089\n",
       "4      1493487  98f7f6f228283aec1e07d274b8664acbdc27a7d2"
      ]
     },
     "execution_count": 2,
     "metadata": {},
     "output_type": "execute_result"
    }
   ],
   "source": [
    "revisions_df = pd.read_csv('../list-of-forks-apoc-subgraph-git-master.csv')\n",
    "revisions_df.head()"
   ]
  },
  {
   "cell_type": "code",
   "execution_count": 2,
   "metadata": {},
   "outputs": [],
   "source": [
    "from neo4j import GraphDatabase\n",
    "\n",
    "uri = \"bolt://localhost:7687\"\n",
    "driver = GraphDatabase.driver(uri, auth=(\"neo4j\", \"password\"))"
   ]
  },
  {
   "cell_type": "code",
   "execution_count": 5,
   "metadata": {
    "scrolled": false
   },
   "outputs": [],
   "source": [
    "# def print_friends_of(tx, name):\n",
    "#     for record in tx.run(\"MATCH (s:Snapshot)-[:MASTER]->(r) WHERE s.type is not null WITH DISTINCT r, s.id as snapshot_id CALL apoc.path.subgraphNodes(r, {relationshipFilter: \\\"PARENT>\\\"}) YIELD node WITH snapshot_id, node, size((:Revision)-[:PARENT]->(node)) AS NumOfChildren WHERE NumOfChildren > 1 RETURN snapshot_id, node.id;\", name=name):\n",
    "#         print(record[\"node.id\"])\n",
    "\n",
    "\n",
    "# with driver.session() as session:\n",
    "#     session.read_transaction(print_friends_of, \"Alice\")"
   ]
  },
  {
   "cell_type": "code",
   "execution_count": 8,
   "metadata": {},
   "outputs": [
    {
     "data": {
      "text/html": [
       "<div>\n",
       "<style scoped>\n",
       "    .dataframe tbody tr th:only-of-type {\n",
       "        vertical-align: middle;\n",
       "    }\n",
       "\n",
       "    .dataframe tbody tr th {\n",
       "        vertical-align: top;\n",
       "    }\n",
       "\n",
       "    .dataframe thead th {\n",
       "        text-align: right;\n",
       "    }\n",
       "</style>\n",
       "<table border=\"1\" class=\"dataframe\">\n",
       "  <thead>\n",
       "    <tr style=\"text-align: right;\">\n",
       "      <th></th>\n",
       "      <th>origin</th>\n",
       "      <th>visit</th>\n",
       "      <th>date</th>\n",
       "      <th>status</th>\n",
       "      <th>metadata</th>\n",
       "      <th>snapshot_id</th>\n",
       "    </tr>\n",
       "  </thead>\n",
       "  <tbody>\n",
       "    <tr>\n",
       "      <th>0</th>\n",
       "      <td>861868</td>\n",
       "      <td>1</td>\n",
       "      <td>2015-08-11T10:42:52.831Z</td>\n",
       "      <td>full</td>\n",
       "      <td>NaN</td>\n",
       "      <td>1502565.0</td>\n",
       "    </tr>\n",
       "    <tr>\n",
       "      <th>1</th>\n",
       "      <td>861868</td>\n",
       "      <td>2</td>\n",
       "      <td>2016-02-26T04:43:14.106Z</td>\n",
       "      <td>full</td>\n",
       "      <td>NaN</td>\n",
       "      <td>1502566.0</td>\n",
       "    </tr>\n",
       "    <tr>\n",
       "      <th>2</th>\n",
       "      <td>861868</td>\n",
       "      <td>3</td>\n",
       "      <td>2016-03-28T17:54:15.605Z</td>\n",
       "      <td>full</td>\n",
       "      <td>NaN</td>\n",
       "      <td>1502567.0</td>\n",
       "    </tr>\n",
       "    <tr>\n",
       "      <th>3</th>\n",
       "      <td>861868</td>\n",
       "      <td>4</td>\n",
       "      <td>2016-05-22T17:37:53.748Z</td>\n",
       "      <td>full</td>\n",
       "      <td>NaN</td>\n",
       "      <td>1502568.0</td>\n",
       "    </tr>\n",
       "    <tr>\n",
       "      <th>4</th>\n",
       "      <td>861868</td>\n",
       "      <td>5</td>\n",
       "      <td>2016-06-07T01:00:47.678Z</td>\n",
       "      <td>full</td>\n",
       "      <td>NaN</td>\n",
       "      <td>1502569.0</td>\n",
       "    </tr>\n",
       "  </tbody>\n",
       "</table>\n",
       "</div>"
      ],
      "text/plain": [
       "   origin  visit                      date status  metadata  snapshot_id\n",
       "0  861868      1  2015-08-11T10:42:52.831Z   full       NaN    1502565.0\n",
       "1  861868      2  2016-02-26T04:43:14.106Z   full       NaN    1502566.0\n",
       "2  861868      3  2016-03-28T17:54:15.605Z   full       NaN    1502567.0\n",
       "3  861868      4  2016-05-22T17:37:53.748Z   full       NaN    1502568.0\n",
       "4  861868      5  2016-06-07T01:00:47.678Z   full       NaN    1502569.0"
      ]
     },
     "execution_count": 8,
     "metadata": {},
     "output_type": "execute_result"
    }
   ],
   "source": [
    "origin_visit_df = pd.read_csv('../origin_visit.csv')"
   ]
  },
  {
   "cell_type": "code",
   "execution_count": 14,
   "metadata": {},
   "outputs": [
    {
     "name": "stdout",
     "output_type": "stream",
     "text": [
      "<class 'pandas.core.frame.DataFrame'>\n",
      "RangeIndex: 238566 entries, 0 to 238565\n",
      "Data columns (total 6 columns):\n",
      "origin         238566 non-null int64\n",
      "visit          238566 non-null int64\n",
      "date           238566 non-null object\n",
      "status         238566 non-null object\n",
      "metadata       0 non-null float64\n",
      "snapshot_id    209323 non-null float64\n",
      "dtypes: float64(2), int64(2), object(2)\n",
      "memory usage: 10.9+ MB\n"
     ]
    }
   ],
   "source": [
    "# origin_visit_df['snapshot_id'] = origin_visit_df['snapshot_id'].astype('int64')\n",
    "origin_visit_df.info()"
   ]
  }
 ],
 "metadata": {
  "kernelspec": {
   "display_name": "Python 3",
   "language": "python",
   "name": "python3"
  },
  "language_info": {
   "codemirror_mode": {
    "name": "ipython",
    "version": 3
   },
   "file_extension": ".py",
   "mimetype": "text/x-python",
   "name": "python",
   "nbconvert_exporter": "python",
   "pygments_lexer": "ipython3",
   "version": "3.6.9"
  }
 },
 "nbformat": 4,
 "nbformat_minor": 2
}
