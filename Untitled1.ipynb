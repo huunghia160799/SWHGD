{
 "cells": [
  {
   "cell_type": "code",
   "execution_count": null,
   "metadata": {},
   "outputs": [],
   "source": [
    "import tarfile as tf\n",
    "import gzip as gz\n",
    "from StringIO import StringIO\n",
    "infile = '/mnt/17volume/data/snapshot_revision_git.csv.gz'\n",
    "def linecount(infile, member):\n",
    "    lc = 0\n",
    "    with gz.GzipFile(infile) as zipf:\n",
    "        with tf.TarFile(fileobj=zipf) as tarf:\n",
    "            dataf = tarf.extractfile(member)\n",
    "            while dataf.readline():\n",
    "               lc += 1 \n",
    "            dataf.close()       \n",
    "    return lc\n",
    "print linecount(infile, '/tmp/test.csv')"
   ]
  }
 ],
 "metadata": {
  "kernelspec": {
   "display_name": "Python 3",
   "language": "python",
   "name": "python3"
  },
  "language_info": {
   "codemirror_mode": {
    "name": "ipython",
    "version": 2
   },
   "file_extension": ".py",
   "mimetype": "text/x-python",
   "name": "python",
   "nbconvert_exporter": "python",
   "pygments_lexer": "ipython2",
   "version": "2.7.17"
  }
 },
 "nbformat": 4,
 "nbformat_minor": 2
}
