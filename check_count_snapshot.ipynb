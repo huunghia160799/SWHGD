{
 "cells": [
  {
   "cell_type": "code",
   "execution_count": 4,
   "metadata": {
    "scrolled": true
   },
   "outputs": [
    {
     "name": "stdout",
     "output_type": "stream",
     "text": [
      "0\n",
      "('module name:', '__main__')\n",
      "('parent process:', 31954)\n",
      "('process id:', 345)\n"
     ]
    }
   ],
   "source": [
    "\n",
    "import pandas as pd\n",
    "import os\n",
    "from multiprocessing import Process\n",
    "def check_origin(num):\n",
    "    info(num)\n",
    "    snapshots = set()\n",
    "    cnt = 0\n",
    "    for lines in pd.read_csv('/mnt/17volume/data/snapshot_revision_fork_part0'+ num + '.csv', encoding='utf-8', header=None, chunksize=100000):\n",
    "        for line in lines.iterrows():\n",
    "            if cnt == 0:\n",
    "                cnt += 1\n",
    "                continue\n",
    "            if line[1][0] not in snapshots:\n",
    "                snapshots.add(line[1][0])\n",
    "    print(len(snapshots))\n",
    "    f = open(\"/home/sv/project.csv\", \"a\")\n",
    "    f.wrtie(\"Filename\" + name + \": \" + str(len(snapshots)))\n",
    "    f.close()\n",
    "\n",
    "def info(title):\n",
    "    print(title)\n",
    "    print('module name:', __name__)\n",
    "    print('parent process:', os.getppid())\n",
    "    print('process id:', os.getpid())\n",
    "            \n",
    "if __name__ == '__main__':\n",
    "    p1 = Process(target=check_origin, args = ('0',))\n",
    "    p1.start()\n",
    "#     p2 = Process(target=check_origin, args = ('1',))\n",
    "#     p2.start()\n",
    "#     p3 = Process(target=check_origin, args = ('2',))\n",
    "#     p3.start()\n",
    "#    p4 = Process(target=check_origin, args = ('3',))\n",
    "#    p4.start()\n",
    "     #p5 = Process(target=check_origin, args = ('4',))\n",
    "     #p5.start()\n",
    "#     p6 = Process(target=check_origin, args = ('5',))\n",
    "#     p6.start()\n"
   ]
  }
 ],
 "metadata": {
  "kernelspec": {
   "display_name": "Python 3",
   "language": "python",
   "name": "python3"
  },
  "language_info": {
   "codemirror_mode": {
    "name": "ipython",
    "version": 2
   },
   "file_extension": ".py",
   "mimetype": "text/x-python",
   "name": "python",
   "nbconvert_exporter": "python",
   "pygments_lexer": "ipython2",
   "version": "2.7.17"
  }
 },
 "nbformat": 4,
 "nbformat_minor": 2
}
