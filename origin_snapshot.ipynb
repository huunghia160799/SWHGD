{
 "cells": [
  {
   "cell_type": "code",
   "execution_count": null,
   "metadata": {},
   "outputs": [],
   "source": [
    "import psycopg2\n",
    "import pandas as pd\n",
    "try:\n",
    "    connection = psycopg2.connect(user = \"sv\",\n",
    "                                  password = \"password\",\n",
    "                                  host = \"127.0.0.1\",\n",
    "                                  port = \"5432\",\n",
    "                                  database = \"swhgd\")\n",
    "\n",
    "    cursor = connection.cursor()\n",
    "    # Print PostgreSQL Connection properties\n",
    "    #print ( connection.get_dsn_parameters(),\"\\n\")\n",
    "    check = {}\n",
    "    snapshots = set()\n",
    "    # Print PostgreSQL version\n",
    "    #cursor.execute(\"SELECT version();\")\n",
    "    #record = cursor.fetchone()\n",
    "    #print(\"You are connected to - \", record,\"\\n\")\n",
    "    cnt = 0\n",
    "    for lines in pd.read_csv('/mnt/17volume/data/snapshot_fork.csv.gz', encoding='utf-8', header=False, chunksize=100):\n",
    "        for line in lines.iterrows():\n",
    "            if cnt == 0:\n",
    "                cnt += 1\n",
    "                continue\n",
    "            print(line)\n",
    "\n",
    "            if line[1][0] not in snapshots:\n",
    "                check.clear()\n",
    "                snapshots.add(line[1][0])\n",
    "            if (line[1][0], line[1][2]) not in check:\n",
    "                row = cursor.execute(\"SELECT distinct ov1.snapshot_id as snapshot_id, ov2.snapshot_id as fork_id FROM origin_visit as ov1, origin_visit as ov2 WHERE (%s) = ov1.snapshot_id and (%s) = ov2.snapshot_id and ov1.origin != ov2.origin\", (line[1][0], line[1][2]))\n",
    "                record = cursor.fetchone()\n",
    "                print(line[1][0], line[1][2])\n",
    "                if record != None:\n",
    "                    check[(line[1][0], line[1][2])] = True\n",
    "                else:\n",
    "                    check[(line[1][0], line[1][2])] = False\n",
    "            if check[(line[1][0], line[1][2])] == True:\n",
    "                df = pd.DataFrame({\n",
    "                    'snapshot_id': [line[1][0]],\n",
    "                    'fork_id': [line[1][2]],\n",
    "                    'date': [line[1][3]]\n",
    "                })\n",
    "                df.to_csv('/tmp/snapshot_fork.csv.gz', compression = 'gzip', mode ='a', header=False, index=False)\n",
    "except (Exception, psycopg2.Error) as error :\n",
    "    print (\"Error while connecting to PostgreSQL\", error)\n",
    "finally:\n",
    "    print(len(snapshots))\n",
    "    #closing database connection.\n",
    "    if connection:\n",
    "        cursor.close()\n",
    "        connection.close()\n",
    "        print(\"PostgreSQL connection is closed\")"
   ]
  },
  {
   "cell_type": "code",
   "execution_count": null,
   "metadata": {},
   "outputs": [],
   "source": []
  }
 ],
 "metadata": {
  "kernelspec": {
   "display_name": "Python 3",
   "language": "python",
   "name": "python3"
  },
  "language_info": {
   "codemirror_mode": {
    "name": "ipython",
    "version": 2
   },
   "file_extension": ".py",
   "mimetype": "text/x-python",
   "name": "python",
   "nbconvert_exporter": "python",
   "pygments_lexer": "ipython2",
   "version": "2.7.17"
  }
 },
 "nbformat": 4,
 "nbformat_minor": 2
}
