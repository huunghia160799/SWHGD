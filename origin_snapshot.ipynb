{
 "cells": [
  {
   "cell_type": "code",
   "execution_count": null,
   "metadata": {},
   "outputs": [],
   "source": [
    "import psycopg2\n",
    "import pandas as pd\n",
    "try:\n",
    "    connection = psycopg2.connect(user = \"sv\",\n",
    "                                  password = \"password\",\n",
    "                                  host = \"127.0.0.1\",\n",
    "                                  port = \"5432\",\n",
    "                                  database = \"swhgd\")\n",
    "\n",
    "    cursor = connection.cursor()\n",
    "    # Print PostgreSQL Connection properties\n",
    "    print ( connection.get_dsn_parameters(),\"\\n\")\n",
    "\n",
    "    # Print PostgreSQL version\n",
    "    cursor.execute(\"SELECT version();\")\n",
    "    record = cursor.fetchone()\n",
    "    print(\"You are connected to - \", record,\"\\n\")\n",
    "    cnt = 0\n",
    "    for lines in pd.read_csv('/mnt/17volume/data/list_of_forks.csv.gz', encoding='utf-8', header=None, chunksize=100):\n",
    "        print(lines)\n",
    "        for line in lines:\n",
    "            print(line)\n",
    "            cnt += 1\n",
    "            if cnt == 1:\n",
    "                #print(line)\n",
    "                continue\n",
    "            #cursor.execute(\"SELECT distinct (%s) as snapshot_id, (%s) as fork_id FROM origin_visit as ov1, origin_visit as ov2 WHERE (%s) = ov1.snapshot_id and (%s) = ov2.snapshot_id and ov1.origin != ov2.origin\", (line[0], line[2], line[0], line[2]))\n",
    "            #record = cursor.fetchone()\n",
    "            #print(record)\n",
    "except (Exception, psycopg2.Error) as error :\n",
    "    print (\"Error while connecting to PostgreSQL\", error)\n",
    "finally:\n",
    "    #closing database connection.\n",
    "    if connection:\n",
    "        cursor.close()\n",
    "        connection.close()\n",
    "        print(\"PostgreSQL connection is closed\")"
   ]
  }
 ],
 "metadata": {
  "kernelspec": {
   "display_name": "Python 3",
   "language": "python",
   "name": "python3"
  }
 },
 "nbformat": 4,
 "nbformat_minor": 2
}
