{
 "cells": [
  {
   "cell_type": "code",
   "execution_count": 3,
   "metadata": {
    "scrolled": true
   },
   "outputs": [
    {
     "name": "stdout",
     "output_type": "stream",
     "text": [
      "\n",
      "('module name:', '__main__')\n",
      "('parent process:', 1618)\n",
      "('process id:', 32224)\n",
      "('Snapshot: ', 30491295)\n"
     ]
    },
    {
     "ename": "KeyboardInterrupt",
     "evalue": "",
     "output_type": "error",
     "traceback": [
      "\u001b[0;31m---------------------------------------------------------------------------\u001b[0m",
      "\u001b[0;31mKeyboardInterrupt\u001b[0m                         Traceback (most recent call last)",
      "\u001b[0;32m<ipython-input-3-e678901800d6>\u001b[0m in \u001b[0;36m<module>\u001b[0;34m()\u001b[0m\n\u001b[1;32m     86\u001b[0m \u001b[0;31m#     p6 = Process(target=calculate_cycle_times, args = ('af',))\u001b[0m\u001b[0;34m\u001b[0m\u001b[0;34m\u001b[0m\u001b[0m\n\u001b[1;32m     87\u001b[0m \u001b[0;31m#     p6.start()\u001b[0m\u001b[0;34m\u001b[0m\u001b[0;34m\u001b[0m\u001b[0m\n\u001b[0;32m---> 88\u001b[0;31m     \u001b[0mcalculate_cycle_times\u001b[0m\u001b[0;34m(\u001b[0m\u001b[0;34m''\u001b[0m\u001b[0;34m)\u001b[0m\u001b[0;34m\u001b[0m\u001b[0m\n\u001b[0m",
      "\u001b[0;32m<ipython-input-3-e678901800d6>\u001b[0m in \u001b[0;36mcalculate_cycle_times\u001b[0;34m(name)\u001b[0m\n\u001b[1;32m     15\u001b[0m         \u001b[0;32mfor\u001b[0m \u001b[0mline\u001b[0m \u001b[0;32min\u001b[0m \u001b[0mlines\u001b[0m\u001b[0;34m.\u001b[0m\u001b[0miterrows\u001b[0m\u001b[0;34m(\u001b[0m\u001b[0;34m)\u001b[0m\u001b[0;34m:\u001b[0m\u001b[0;34m\u001b[0m\u001b[0m\n\u001b[1;32m     16\u001b[0m             \u001b[0;32mtry\u001b[0m\u001b[0;34m:\u001b[0m\u001b[0;34m\u001b[0m\u001b[0m\n\u001b[0;32m---> 17\u001b[0;31m                 \u001b[0;32mif\u001b[0m \u001b[0mline\u001b[0m\u001b[0;34m[\u001b[0m\u001b[0;36m1\u001b[0m\u001b[0;34m]\u001b[0m\u001b[0;34m[\u001b[0m\u001b[0;36m4\u001b[0m\u001b[0;34m]\u001b[0m \u001b[0;34m==\u001b[0m \u001b[0mline\u001b[0m\u001b[0;34m[\u001b[0m\u001b[0;36m1\u001b[0m\u001b[0;34m]\u001b[0m\u001b[0;34m[\u001b[0m\u001b[0;36m4\u001b[0m\u001b[0;34m]\u001b[0m\u001b[0;34m:\u001b[0m\u001b[0;34m\u001b[0m\u001b[0m\n\u001b[0m\u001b[1;32m     18\u001b[0m                     \u001b[0;32mif\u001b[0m \u001b[0mline\u001b[0m\u001b[0;34m[\u001b[0m\u001b[0;36m1\u001b[0m\u001b[0;34m]\u001b[0m\u001b[0;34m[\u001b[0m\u001b[0;36m0\u001b[0m\u001b[0;34m]\u001b[0m \u001b[0;32mnot\u001b[0m \u001b[0;32min\u001b[0m \u001b[0msnapshots\u001b[0m\u001b[0;34m:\u001b[0m\u001b[0;34m\u001b[0m\u001b[0m\n\u001b[1;32m     19\u001b[0m                         \u001b[0;32mif\u001b[0m \u001b[0mlen\u001b[0m\u001b[0;34m(\u001b[0m\u001b[0msnapshots\u001b[0m\u001b[0;34m)\u001b[0m \u001b[0;34m>\u001b[0m \u001b[0;36m0\u001b[0m\u001b[0;34m:\u001b[0m\u001b[0;34m\u001b[0m\u001b[0m\n",
      "\u001b[0;32m/home/sv/.local/lib/python2.7/site-packages/pandas/core/series.pyc\u001b[0m in \u001b[0;36m__getitem__\u001b[0;34m(self, key)\u001b[0m\n\u001b[1;32m    866\u001b[0m         \u001b[0mkey\u001b[0m \u001b[0;34m=\u001b[0m \u001b[0mcom\u001b[0m\u001b[0;34m.\u001b[0m\u001b[0mapply_if_callable\u001b[0m\u001b[0;34m(\u001b[0m\u001b[0mkey\u001b[0m\u001b[0;34m,\u001b[0m \u001b[0mself\u001b[0m\u001b[0;34m)\u001b[0m\u001b[0;34m\u001b[0m\u001b[0m\n\u001b[1;32m    867\u001b[0m         \u001b[0;32mtry\u001b[0m\u001b[0;34m:\u001b[0m\u001b[0;34m\u001b[0m\u001b[0m\n\u001b[0;32m--> 868\u001b[0;31m             \u001b[0mresult\u001b[0m \u001b[0;34m=\u001b[0m \u001b[0mself\u001b[0m\u001b[0;34m.\u001b[0m\u001b[0mindex\u001b[0m\u001b[0;34m.\u001b[0m\u001b[0mget_value\u001b[0m\u001b[0;34m(\u001b[0m\u001b[0mself\u001b[0m\u001b[0;34m,\u001b[0m \u001b[0mkey\u001b[0m\u001b[0;34m)\u001b[0m\u001b[0;34m\u001b[0m\u001b[0m\n\u001b[0m\u001b[1;32m    869\u001b[0m \u001b[0;34m\u001b[0m\u001b[0m\n\u001b[1;32m    870\u001b[0m             \u001b[0;32mif\u001b[0m \u001b[0;32mnot\u001b[0m \u001b[0mis_scalar\u001b[0m\u001b[0;34m(\u001b[0m\u001b[0mresult\u001b[0m\u001b[0;34m)\u001b[0m\u001b[0;34m:\u001b[0m\u001b[0;34m\u001b[0m\u001b[0m\n",
      "\u001b[0;32m/home/sv/.local/lib/python2.7/site-packages/pandas/core/indexes/base.pyc\u001b[0m in \u001b[0;36mget_value\u001b[0;34m(self, series, key)\u001b[0m\n\u001b[1;32m   4373\u001b[0m         \u001b[0;32mtry\u001b[0m\u001b[0;34m:\u001b[0m\u001b[0;34m\u001b[0m\u001b[0m\n\u001b[1;32m   4374\u001b[0m             return self._engine.get_value(s, k,\n\u001b[0;32m-> 4375\u001b[0;31m                                           tz=getattr(series.dtype, 'tz', None))\n\u001b[0m\u001b[1;32m   4376\u001b[0m         \u001b[0;32mexcept\u001b[0m \u001b[0mKeyError\u001b[0m \u001b[0;32mas\u001b[0m \u001b[0me1\u001b[0m\u001b[0;34m:\u001b[0m\u001b[0;34m\u001b[0m\u001b[0m\n\u001b[1;32m   4377\u001b[0m             \u001b[0;32mif\u001b[0m \u001b[0mlen\u001b[0m\u001b[0;34m(\u001b[0m\u001b[0mself\u001b[0m\u001b[0;34m)\u001b[0m \u001b[0;34m>\u001b[0m \u001b[0;36m0\u001b[0m \u001b[0;32mand\u001b[0m \u001b[0;34m(\u001b[0m\u001b[0mself\u001b[0m\u001b[0;34m.\u001b[0m\u001b[0mholds_integer\u001b[0m\u001b[0;34m(\u001b[0m\u001b[0;34m)\u001b[0m \u001b[0;32mor\u001b[0m \u001b[0mself\u001b[0m\u001b[0;34m.\u001b[0m\u001b[0mis_boolean\u001b[0m\u001b[0;34m(\u001b[0m\u001b[0;34m)\u001b[0m\u001b[0;34m)\u001b[0m\u001b[0;34m:\u001b[0m\u001b[0;34m\u001b[0m\u001b[0m\n",
      "\u001b[0;31mKeyboardInterrupt\u001b[0m: "
     ]
    }
   ],
   "source": [
    "import csv\n",
    "import gzip\n",
    "from dateutil.parser import parse\n",
    "from decimal import *\n",
    "import pandas as pd\n",
    "import gc\n",
    "import os\n",
    "from multiprocessing import Process\n",
    "def calculate_cycle_times(name):\n",
    "    info(name)\n",
    "    snapshots = {}\n",
    "    cycle_times = {}\n",
    "    snapshot_id = 0\n",
    "    for lines in pd.read_csv(\"/mnt/17volume/data/final.csv\", chunksize=100000, encoding='utf-8', header=None):\n",
    "        for line in lines.iterrows():\n",
    "            try:\n",
    "                if line[1][4] == line[1][4]:\n",
    "                    if line[1][0] not in snapshots:\n",
    "                        if len(snapshots) > 0:\n",
    "                            print(\"Snapshot: \", snapshot_id)\n",
    "                            snapshots[snapshot_id].sort()                            \n",
    "                            tmp = []\n",
    "                            if len(snapshots[snapshot_id]) > 1:\n",
    "                                for i in range(len(snapshots[snapshot_id])-1):\n",
    "                                    tmp.append(abs(int(snapshots[snapshot_id][i]) - int(snapshots[snapshot_id][i+1])))\n",
    "                                m = sum(tmp)/len(tmp)\n",
    "                                cycle_times[snapshot_id] = m\n",
    "                                #print(snapshot_id,' ', cycle_times[snapshot_id])\n",
    "                                s  = pd.Series(cycle_times,index=cycle_times.keys())\n",
    "                                df = pd.DataFrame({\n",
    "                                    'snapshot_id':[snapshot_id], \n",
    "                                    'cycle_times':[m]\n",
    "                                })\n",
    "                                #print(df)\n",
    "                                df.to_csv('/home/sv/cycle_time_release_first.csv', mode ='a', header=False, index=False)\n",
    "                            del snapshots[snapshot_id]\n",
    "                        del snapshots\n",
    "                        gc.collect()\n",
    "                        snapshots = {}\n",
    "                        snapshot_id = line[1][0]\n",
    "                        if snapshot_id == snapshot_id:\n",
    "                            snapshots[snapshot_id] = [line[1][4]]\n",
    "                    else:\n",
    "                        snapshots[snapshot_id].append(line[1][4])\n",
    "            except Exception as e:\n",
    "                f = open(\"/home/sv/cycle_time_error.txt\", \"a\")\n",
    "                f.write(\"Project id: \" + str(line[1][0]))\n",
    "                f.write(\", error: \" + str(e) + \"\\n\")\n",
    "                with open('/home/sv/cycle_time_exception.csv', mode='a') as project_file:\n",
    "                    project_writer = csv.writer(project_file, delimiter=',', quotechar='\"', quoting=csv.QUOTE_MINIMAL)\n",
    "                    project_writer.writerow([line[1][0], line[1][1], line[1][2], line[1][3], line[1][4]])\n",
    "                pass\n",
    "    if len(snapshots) > 0:\n",
    "        print('The last snapshot: ', snapshot_id)\n",
    "        snapshots[snapshot_id].sort()                            \n",
    "        tmp = []\n",
    "        if len(snapshots[snapshot_id]) > 1:\n",
    "            for i in range(len(snapshots[snapshot_id])-1):\n",
    "                tmp.append(abs(int(snapshots[snapshot_id][i]) - int(snapshots[snapshot_id][i+1])))\n",
    "            m = sum(tmp)/len(tmp)\n",
    "            cycle_times[snapshot_id] = m\n",
    "            s  = pd.Series(cycle_times,index=cycle_times.keys())\n",
    "            df = pd.DataFrame({\n",
    "                'snapshot_id':[snapshot_id], \n",
    "                'cycle_times':[m]\n",
    "            })\n",
    "            df.to_csv('/home/sv/cycle_time_release_first.csv', mode ='a', header=False, index=False)\n",
    "    \n",
    "def info(title):\n",
    "    print(title)\n",
    "    print('module name:', __name__)\n",
    "    print('parent process:', os.getppid())\n",
    "    print('process id:', os.getpid())\n",
    "    \n",
    "if __name__ == '__main__':\n",
    "#     p1 = Process(target=calculate_cycle_times, args = ('aa',))\n",
    "#     p1.start()\n",
    "#     p2 = Process(target=calculate_cycle_times, args = ('ab',))\n",
    "#     p2.start()\n",
    "#     p3 = Process(target=calculate_cycle_times, args = ('ac',))\n",
    "#     p3.start()  \n",
    "#     p4 = Process(target=calculate_cycle_times, args = ('ad',))\n",
    "#     p4.start()  \n",
    "#     p5 = Process(target=calculate_cycle_times, args = ('ae',))\n",
    "#     p5.start()\n",
    "#     p6 = Process(target=calculate_cycle_times, args = ('af',))\n",
    "#     p6.start()\n",
    "    calculate_cycle_times('')\n"
   ]
  }
 ],
 "metadata": {
  "kernelspec": {
   "display_name": "Python 3",
   "language": "python",
   "name": "python3"
  },
  "language_info": {
   "codemirror_mode": {
    "name": "ipython",
    "version": 2
   },
   "file_extension": ".py",
   "mimetype": "text/x-python",
   "name": "python",
   "nbconvert_exporter": "python",
   "pygments_lexer": "ipython2",
   "version": "2.7.17"
  }
 },
 "nbformat": 4,
 "nbformat_minor": 2
}
