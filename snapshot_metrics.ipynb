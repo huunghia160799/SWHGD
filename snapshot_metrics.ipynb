{
 "cells": [
  {
   "cell_type": "code",
   "execution_count": null,
   "metadata": {},
   "outputs": [],
   "source": [
    "snapshots = {}\n",
    "with open('snapshot_revision_git_bao.csv', mode = 'r') as project_2:\n",
    "    csv_reader_2 = csv.DictReader(project_2)\n",
    "    line_count = 0\n",
    "    for row in csv_reader_2:\n",
    "        if row[\"snapshot_id\"] not in snapshots:\n",
    "            snapshots[row[\"snapshot_id\"]] = []\n",
    "            snapshots[row[\"snapshot_id\"]].append(Revision(int(row[\"date\"]), int(row[\"author\"]), row[\"id\"]))\n",
    "        else:\n",
    "            snapshots[row[\"snapshot_id\"]].append(Revision(int(row[\"date\"]), int(row[\"author\"]), row[\"id\"]))\n",
    "        line_count+=1\n",
    "    print(f'Processed {line_count} lines')\n",
    "\n",
    "gap_limit_mili = 345600"
   ]
  },
  {
   "cell_type": "code",
   "execution_count": 18,
   "metadata": {},
   "outputs": [],
   "source": [
    "import csv\n",
    "from dateutil.parser import parse\n",
    "\n",
    "class Revision:\n",
    "    id = \"\"\n",
    "    date = 1\n",
    "    author = 1\n",
    "    def __init__(self, date, author, id):\n",
    "        self.date = date\n",
    "        self.author = author\n",
    "        self.id = id"
   ]
  },
  {
   "cell_type": "code",
   "execution_count": null,
   "metadata": {},
   "outputs": [],
   "source": [
    "with open('project-git-metrics.csv', mode='w') as metric_file:\n",
    "    metric_writer_2 = csv.writer(metric_file, delimiter=',', quotechar='\"', quoting=csv.QUOTE_MINIMAL)\n",
    "    metric_writer_2.writerow(['snapshot_id', 'total_revisions', 'total_authors', 'revision_frequency', 'author_frequency'])\n",
    "    for id, snapshot in snapshots.items():\n",
    "        snapshot.sort(key=lambda x: x.date)\n",
    "        lower_date = 0\n",
    "        higher_date = 0\n",
    "        total_authors = 0\n",
    "        authors = {}\n",
    "        period_authors = {}\n",
    "        total_commits = 0\n",
    "        commit_frequency = 0\n",
    "        period_cnt = 0\n",
    "        author_frequency = 0\n",
    "        for index, rev in enumerate(snapshot):\n",
    "            total_commits += 1\n",
    "            if rev.author not in authors:\n",
    "                authors[rev.author] = 1\n",
    "                total_authors+=1\n",
    "            else:\n",
    "                authors[rev.author] += 1\n",
    "            commit_frequency += 1\n",
    "            if lower_date == 0:\n",
    "                lower_date = rev.date\n",
    "            higher_date = rev.date\n",
    "            if higher_date - lower_date <= gap_limit_mili and index == len(snapshot) - 1:\n",
    "                period_cnt += 1\n",
    "            if higher_date - lower_date > gap_limit_mili:\n",
    "                lower_date = snapshot[index-1].date\n",
    "                period_cnt += 1\n",
    "                period_authors.clear()\n",
    "            if rev.author not in period_authors:\n",
    "                period_authors[rev.author] = 1\n",
    "                author_frequency += 1\n",
    "            else:\n",
    "                period_authors[rev.author] += 1\n",
    "        metric_writer_2.writerow([id, total_commits, total_authors, commit_frequency/period_cnt, author_frequency/ period_cnt])"
   ]
  }
 ],
 "metadata": {
  "kernelspec": {
   "display_name": "Python 3",
   "language": "python",
   "name": "python3"
  },
  "language_info": {
   "codemirror_mode": {
    "name": "ipython",
    "version": 3
   },
   "file_extension": ".py",
   "mimetype": "text/x-python",
   "name": "python",
   "nbconvert_exporter": "python",
   "pygments_lexer": "ipython3",
   "version": "3.6.9"
  }
 },
 "nbformat": 4,
 "nbformat_minor": 4
}
