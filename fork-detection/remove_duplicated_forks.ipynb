{
 "cells": [
  {
   "cell_type": "code",
   "execution_count": 1,
   "metadata": {},
   "outputs": [],
   "source": [
    "import pandas as pd\n",
    "import numpy as np"
   ]
  },
  {
   "cell_type": "code",
   "execution_count": null,
   "metadata": {},
   "outputs": [],
   "source": [
    "revision_point = pd.read_csv('/mnt/17volume/data/snapshot_fork.csv.gz', compression='gzip', header=None)"
   ]
  },
  {
   "cell_type": "code",
   "execution_count": null,
   "metadata": {},
   "outputs": [],
   "source": [
    "revision_point.info()"
   ]
  },
  {
   "cell_type": "code",
   "execution_count": null,
   "metadata": {},
   "outputs": [],
   "source": [
    "revision_point.head()"
   ]
  },
  {
   "cell_type": "code",
   "execution_count": null,
   "metadata": {},
   "outputs": [],
   "source": [
    "revision_point = revision_point.sort_values(by=['date'], ascending=False)"
   ]
  },
  {
   "cell_type": "code",
   "execution_count": null,
   "metadata": {},
   "outputs": [],
   "source": [
    "revision_point.head()"
   ]
  },
  {
   "cell_type": "code",
   "execution_count": null,
   "metadata": {},
   "outputs": [],
   "source": [
    "snapshot_dicts = dict()\n",
    "for i, row in revision_point.iterrows():\n",
    "    snapshot_id = row['snapshot_id']\n",
    "    fork_snapshot_id = row['fork_id']\n",
    "    if snapshot_id not in snapshot_dicts:\n",
    "        snapshot_dicts[snapshot_id] = dict()\n",
    "    snapshot_dict = snapshot_dicts[snapshot_id]\n",
    "    if fork_snapshot_id not in snapshot_dict:\n",
    "        snapshot_dict[fork_snapshot_id] = i\n",
    "    else:\n",
    "        if revision_point.at[snapshot_dict[fork_snapshot_id], 'date'] < row['date']:\n",
    "            snapshot_dict[fork_snapshot_id] = i\n",
    "\n",
    "rows_to_keep = []\n",
    "for i, snapshot_dict in snapshot_dicts.items():\n",
    "    for j, fork_snapshot_row_idx in snapshot_dict.items():\n",
    "        rows_to_keep.append(fork_snapshot_row_idx)\n",
    "print(rows_to_keep)\n",
    "print(\"Number of forks to keep\", len(rows_to_keep))"
   ]
  },
  {
   "cell_type": "code",
   "execution_count": null,
   "metadata": {},
   "outputs": [],
   "source": [
    "snapshot_fork_revision_duplicated_removed = revision_point[revision_point.index.isin(rows_to_keep)].reset_index()"
   ]
  },
  {
   "cell_type": "code",
   "execution_count": null,
   "metadata": {},
   "outputs": [],
   "source": [
    "snapshot_fork_revision_duplicated_removed.head()"
   ]
  },
  {
   "cell_type": "code",
   "execution_count": null,
   "metadata": {},
   "outputs": [],
   "source": [
    "snapshot_fork_revision_duplicated_removed.to_csv(\"snapshot_fork_revision_duplicates_removed.csv\", compression=\"gzip\", index=False)"
   ]
  }
 ],
 "metadata": {
  "kernelspec": {
   "display_name": "Python 3",
   "language": "python",
   "name": "python3"
  },
  "language_info": {
   "codemirror_mode": {
    "name": "ipython",
    "version": 2
   },
   "file_extension": ".py",
   "mimetype": "text/x-python",
   "name": "python",
   "nbconvert_exporter": "python",
   "pygments_lexer": "ipython2",
   "version": "2.7.17"
  }
 },
 "nbformat": 4,
 "nbformat_minor": 2
}
