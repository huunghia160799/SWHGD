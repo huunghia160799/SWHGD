{
 "cells": [
  {
   "cell_type": "code",
   "execution_count": 1,
   "metadata": {},
   "outputs": [],
   "source": [
    "import pandas as pd\n",
    "import numpy as np\n",
    "from datetime import datetime"
   ]
  },
  {
   "cell_type": "code",
   "execution_count": 3,
   "metadata": {},
   "outputs": [
    {
     "ename": "KeyboardInterrupt",
     "evalue": "",
     "output_type": "error",
     "traceback": [
      "\u001b[0;31m---------------------------------------------------------------------------\u001b[0m",
      "\u001b[0;31mKeyboardInterrupt\u001b[0m                         Traceback (most recent call last)",
      "\u001b[0;32m<ipython-input-3-b5e3d2721049>\u001b[0m in \u001b[0;36m<module>\u001b[0;34m()\u001b[0m\n\u001b[1;32m      5\u001b[0m \u001b[0mchunksize\u001b[0m \u001b[0;34m=\u001b[0m \u001b[0;36m100000\u001b[0m\u001b[0;34m\u001b[0m\u001b[0m\n\u001b[1;32m      6\u001b[0m \u001b[0;34m\u001b[0m\u001b[0m\n\u001b[0;32m----> 7\u001b[0;31m \u001b[0;32mfor\u001b[0m \u001b[0mchunk\u001b[0m \u001b[0;32min\u001b[0m \u001b[0mpd\u001b[0m\u001b[0;34m.\u001b[0m\u001b[0mread_csv\u001b[0m\u001b[0;34m(\u001b[0m\u001b[0;34m'/mnt/17volume/data/snapshot_fork.csv.gz'\u001b[0m\u001b[0;34m,\u001b[0m \u001b[0mcompression\u001b[0m\u001b[0;34m=\u001b[0m\u001b[0;34m'gzip'\u001b[0m\u001b[0;34m,\u001b[0m \u001b[0mnames\u001b[0m\u001b[0;34m=\u001b[0m\u001b[0;34m[\u001b[0m\u001b[0;34m\"date\"\u001b[0m\u001b[0;34m,\u001b[0m \u001b[0;34m\"fork_id\"\u001b[0m\u001b[0;34m,\u001b[0m \u001b[0;34m\"snapshot_id\"\u001b[0m\u001b[0;34m,\u001b[0m\u001b[0;34m]\u001b[0m\u001b[0;34m,\u001b[0m \u001b[0mheader\u001b[0m\u001b[0;34m=\u001b[0m\u001b[0mNone\u001b[0m\u001b[0;34m,\u001b[0m \u001b[0mchunksize\u001b[0m\u001b[0;34m=\u001b[0m\u001b[0mchunksize\u001b[0m\u001b[0;34m)\u001b[0m\u001b[0;34m:\u001b[0m\u001b[0;34m\u001b[0m\u001b[0m\n\u001b[0m\u001b[1;32m      8\u001b[0m     \u001b[0mrevision_point\u001b[0m \u001b[0;34m=\u001b[0m \u001b[0mchunk\u001b[0m\u001b[0;34m\u001b[0m\u001b[0m\n\u001b[1;32m      9\u001b[0m     \u001b[0mrevision_point\u001b[0m \u001b[0;34m=\u001b[0m \u001b[0mrevision_point\u001b[0m\u001b[0;34m.\u001b[0m\u001b[0mreset_index\u001b[0m\u001b[0;34m(\u001b[0m\u001b[0;34m)\u001b[0m\u001b[0;34m\u001b[0m\u001b[0m\n",
      "\u001b[0;32m/home/sv/.local/lib/python2.7/site-packages/pandas/io/common.pyc\u001b[0m in \u001b[0;36m<lambda>\u001b[0;34m(self)\u001b[0m\n\u001b[1;32m     71\u001b[0m \u001b[0;34m\u001b[0m\u001b[0m\n\u001b[1;32m     72\u001b[0m \u001b[0;32mif\u001b[0m \u001b[0;32mnot\u001b[0m \u001b[0mcompat\u001b[0m\u001b[0;34m.\u001b[0m\u001b[0mPY3\u001b[0m\u001b[0;34m:\u001b[0m\u001b[0;34m\u001b[0m\u001b[0m\n\u001b[0;32m---> 73\u001b[0;31m     \u001b[0mBaseIterator\u001b[0m\u001b[0;34m.\u001b[0m\u001b[0mnext\u001b[0m \u001b[0;34m=\u001b[0m \u001b[0;32mlambda\u001b[0m \u001b[0mself\u001b[0m\u001b[0;34m:\u001b[0m \u001b[0mself\u001b[0m\u001b[0;34m.\u001b[0m\u001b[0m__next__\u001b[0m\u001b[0;34m(\u001b[0m\u001b[0;34m)\u001b[0m\u001b[0;34m\u001b[0m\u001b[0m\n\u001b[0m\u001b[1;32m     74\u001b[0m \u001b[0;34m\u001b[0m\u001b[0m\n\u001b[1;32m     75\u001b[0m \u001b[0;34m\u001b[0m\u001b[0m\n",
      "\u001b[0;32m/home/sv/.local/lib/python2.7/site-packages/pandas/io/parsers.pyc\u001b[0m in \u001b[0;36m__next__\u001b[0;34m(self)\u001b[0m\n\u001b[1;32m   1113\u001b[0m     \u001b[0;32mdef\u001b[0m \u001b[0m__next__\u001b[0m\u001b[0;34m(\u001b[0m\u001b[0mself\u001b[0m\u001b[0;34m)\u001b[0m\u001b[0;34m:\u001b[0m\u001b[0;34m\u001b[0m\u001b[0m\n\u001b[1;32m   1114\u001b[0m         \u001b[0;32mtry\u001b[0m\u001b[0;34m:\u001b[0m\u001b[0;34m\u001b[0m\u001b[0m\n\u001b[0;32m-> 1115\u001b[0;31m             \u001b[0;32mreturn\u001b[0m \u001b[0mself\u001b[0m\u001b[0;34m.\u001b[0m\u001b[0mget_chunk\u001b[0m\u001b[0;34m(\u001b[0m\u001b[0;34m)\u001b[0m\u001b[0;34m\u001b[0m\u001b[0m\n\u001b[0m\u001b[1;32m   1116\u001b[0m         \u001b[0;32mexcept\u001b[0m \u001b[0mStopIteration\u001b[0m\u001b[0;34m:\u001b[0m\u001b[0;34m\u001b[0m\u001b[0m\n\u001b[1;32m   1117\u001b[0m             \u001b[0mself\u001b[0m\u001b[0;34m.\u001b[0m\u001b[0mclose\u001b[0m\u001b[0;34m(\u001b[0m\u001b[0;34m)\u001b[0m\u001b[0;34m\u001b[0m\u001b[0m\n",
      "\u001b[0;32m/home/sv/.local/lib/python2.7/site-packages/pandas/io/parsers.pyc\u001b[0m in \u001b[0;36mget_chunk\u001b[0;34m(self, size)\u001b[0m\n\u001b[1;32m   1171\u001b[0m                 \u001b[0;32mraise\u001b[0m \u001b[0mStopIteration\u001b[0m\u001b[0;34m\u001b[0m\u001b[0m\n\u001b[1;32m   1172\u001b[0m             \u001b[0msize\u001b[0m \u001b[0;34m=\u001b[0m \u001b[0mmin\u001b[0m\u001b[0;34m(\u001b[0m\u001b[0msize\u001b[0m\u001b[0;34m,\u001b[0m \u001b[0mself\u001b[0m\u001b[0;34m.\u001b[0m\u001b[0mnrows\u001b[0m \u001b[0;34m-\u001b[0m \u001b[0mself\u001b[0m\u001b[0;34m.\u001b[0m\u001b[0m_currow\u001b[0m\u001b[0;34m)\u001b[0m\u001b[0;34m\u001b[0m\u001b[0m\n\u001b[0;32m-> 1173\u001b[0;31m         \u001b[0;32mreturn\u001b[0m \u001b[0mself\u001b[0m\u001b[0;34m.\u001b[0m\u001b[0mread\u001b[0m\u001b[0;34m(\u001b[0m\u001b[0mnrows\u001b[0m\u001b[0;34m=\u001b[0m\u001b[0msize\u001b[0m\u001b[0;34m)\u001b[0m\u001b[0;34m\u001b[0m\u001b[0m\n\u001b[0m\u001b[1;32m   1174\u001b[0m \u001b[0;34m\u001b[0m\u001b[0m\n\u001b[1;32m   1175\u001b[0m \u001b[0;34m\u001b[0m\u001b[0m\n",
      "\u001b[0;32m/home/sv/.local/lib/python2.7/site-packages/pandas/io/parsers.pyc\u001b[0m in \u001b[0;36mread\u001b[0;34m(self, nrows)\u001b[0m\n\u001b[1;32m   1137\u001b[0m     \u001b[0;32mdef\u001b[0m \u001b[0mread\u001b[0m\u001b[0;34m(\u001b[0m\u001b[0mself\u001b[0m\u001b[0;34m,\u001b[0m \u001b[0mnrows\u001b[0m\u001b[0;34m=\u001b[0m\u001b[0mNone\u001b[0m\u001b[0;34m)\u001b[0m\u001b[0;34m:\u001b[0m\u001b[0;34m\u001b[0m\u001b[0m\n\u001b[1;32m   1138\u001b[0m         \u001b[0mnrows\u001b[0m \u001b[0;34m=\u001b[0m \u001b[0m_validate_integer\u001b[0m\u001b[0;34m(\u001b[0m\u001b[0;34m'nrows'\u001b[0m\u001b[0;34m,\u001b[0m \u001b[0mnrows\u001b[0m\u001b[0;34m)\u001b[0m\u001b[0;34m\u001b[0m\u001b[0m\n\u001b[0;32m-> 1139\u001b[0;31m         \u001b[0mret\u001b[0m \u001b[0;34m=\u001b[0m \u001b[0mself\u001b[0m\u001b[0;34m.\u001b[0m\u001b[0m_engine\u001b[0m\u001b[0;34m.\u001b[0m\u001b[0mread\u001b[0m\u001b[0;34m(\u001b[0m\u001b[0mnrows\u001b[0m\u001b[0;34m)\u001b[0m\u001b[0;34m\u001b[0m\u001b[0m\n\u001b[0m\u001b[1;32m   1140\u001b[0m \u001b[0;34m\u001b[0m\u001b[0m\n\u001b[1;32m   1141\u001b[0m         \u001b[0;31m# May alter columns / col_dict\u001b[0m\u001b[0;34m\u001b[0m\u001b[0;34m\u001b[0m\u001b[0m\n",
      "\u001b[0;32m/home/sv/.local/lib/python2.7/site-packages/pandas/io/parsers.pyc\u001b[0m in \u001b[0;36mread\u001b[0;34m(self, nrows)\u001b[0m\n\u001b[1;32m   1993\u001b[0m     \u001b[0;32mdef\u001b[0m \u001b[0mread\u001b[0m\u001b[0;34m(\u001b[0m\u001b[0mself\u001b[0m\u001b[0;34m,\u001b[0m \u001b[0mnrows\u001b[0m\u001b[0;34m=\u001b[0m\u001b[0mNone\u001b[0m\u001b[0;34m)\u001b[0m\u001b[0;34m:\u001b[0m\u001b[0;34m\u001b[0m\u001b[0m\n\u001b[1;32m   1994\u001b[0m         \u001b[0;32mtry\u001b[0m\u001b[0;34m:\u001b[0m\u001b[0;34m\u001b[0m\u001b[0m\n\u001b[0;32m-> 1995\u001b[0;31m             \u001b[0mdata\u001b[0m \u001b[0;34m=\u001b[0m \u001b[0mself\u001b[0m\u001b[0;34m.\u001b[0m\u001b[0m_reader\u001b[0m\u001b[0;34m.\u001b[0m\u001b[0mread\u001b[0m\u001b[0;34m(\u001b[0m\u001b[0mnrows\u001b[0m\u001b[0;34m)\u001b[0m\u001b[0;34m\u001b[0m\u001b[0m\n\u001b[0m\u001b[1;32m   1996\u001b[0m         \u001b[0;32mexcept\u001b[0m \u001b[0mStopIteration\u001b[0m\u001b[0;34m:\u001b[0m\u001b[0;34m\u001b[0m\u001b[0m\n\u001b[1;32m   1997\u001b[0m             \u001b[0;32mif\u001b[0m \u001b[0mself\u001b[0m\u001b[0;34m.\u001b[0m\u001b[0m_first_chunk\u001b[0m\u001b[0;34m:\u001b[0m\u001b[0;34m\u001b[0m\u001b[0m\n",
      "\u001b[0;32mpandas/_libs/parsers.pyx\u001b[0m in \u001b[0;36mpandas._libs.parsers.TextReader.read\u001b[0;34m()\u001b[0m\n",
      "\u001b[0;32mpandas/_libs/parsers.pyx\u001b[0m in \u001b[0;36mpandas._libs.parsers.TextReader._read_low_memory\u001b[0;34m()\u001b[0m\n",
      "\u001b[0;32mpandas/_libs/parsers.pyx\u001b[0m in \u001b[0;36mpandas._libs.parsers.TextReader._read_rows\u001b[0;34m()\u001b[0m\n",
      "\u001b[0;32mpandas/_libs/parsers.pyx\u001b[0m in \u001b[0;36mpandas._libs.parsers.TextReader._tokenize_rows\u001b[0;34m()\u001b[0m\n",
      "\u001b[0;32mpandas/_libs/parsers.pyx\u001b[0m in \u001b[0;36mpandas._libs.parsers.raise_parser_error\u001b[0;34m()\u001b[0m\n",
      "\u001b[0;31mKeyboardInterrupt\u001b[0m: "
     ]
    }
   ],
   "source": [
    "snapshot_dicts = dict()\n",
    "rows_to_keep = []\n",
    "snapshot_fork_revision_duplicated_removed = pd.DataFrame(columns=[\"snapshot_id\", \"fork_id\", \"date\"])\n",
    "row_count = 0\n",
    "chunksize = 100000\n",
    "\n",
    "for chunk in pd.read_csv('/mnt/17volume/data/snapshot_fork.csv.gz', compression='gzip', names=[\"date\", \"fork_id\", \"snapshot_id\",], header=None, chunksize=chunksize):\n",
    "    revision_point = chunk\n",
    "    revision_point = revision_point.reset_index()\n",
    "    revision_point = revision_point.sort_values(by=['date'], ascending=False)\n",
    "    for i, row in revision_point.iterrows():\n",
    "        snapshot_id = row['snapshot_id']\n",
    "        fork_snapshot_id = row['fork_id']\n",
    "        if snapshot_id not in snapshot_dicts:\n",
    "            snapshot_dicts[snapshot_id] = dict()\n",
    "        snapshot_dict = snapshot_dicts[snapshot_id]\n",
    "        if fork_snapshot_id not in snapshot_dict:\n",
    "            snapshot_dict[fork_snapshot_id] = (i + row_count, row['date'])\n",
    "        else:\n",
    "            if snapshot_dict[fork_snapshot_id][1] < row['date']:\n",
    "                snapshot_dict[fork_snapshot_id] = (i + row_count, row['date'])\n",
    "    row_count += chunksize\n",
    "\n",
    "rows_to_keep = []\n",
    "for i, snapshot_dict in snapshot_dicts.items():\n",
    "    for j, (fork_snapshot_row_idx, date) in snapshot_dict.items():\n",
    "        rows_to_keep.append(fork_snapshot_row_idx)\n",
    "print(\"Number of forks to keep\", len(rows_to_keep))\n",
    "iter_csv = pd.read_csv('/mnt/17volume/data/snapshot_fork.csv.gz', compression='gzip', header=None, chunksize=chunksize)\n",
    "df = pd.concat([chunk[chunk.index.isin(rows_to_keep)] for chunk in iter_csv])"
   ]
  },
  {
   "cell_type": "code",
   "execution_count": null,
   "metadata": {},
   "outputs": [],
   "source": [
    "df.head(5)"
   ]
  },
  {
   "cell_type": "code",
   "execution_count": null,
   "metadata": {},
   "outputs": [],
   "source": [
    "df['year'] = df.apply(lambda row: datetime.utcfromtimestamp(row['date']).year, axis=1)\n",
    "df['month'] = df.apply(lambda row: datetime.utcfromtimestamp(row['date']).month, axis=1)\n",
    "df['day'] = df.apply(lambda row: datetime.utcfromtimestamp(row['date']).day, axis=1)"
   ]
  },
  {
   "cell_type": "code",
   "execution_count": null,
   "metadata": {},
   "outputs": [],
   "source": [
    "df['year'].nunique()"
   ]
  },
  {
   "cell_type": "code",
   "execution_count": null,
   "metadata": {},
   "outputs": [],
   "source": [
    "snapshot_fork_dict = dict()\n",
    "for i, row in df.iterrows():\n",
    "    if row.snapshot_id not in snapshot_fork_dict:\n",
    "        snapshot_fork_dict[row.snapshot_id] = dict()\n",
    "        \n",
    "    if row.year not in snapshot_fork_dict[row.snapshot_id]:\n",
    "        snapshot_fork_dict[row.snapshot_id][row.year] = [1, dict()]\n",
    "    else:\n",
    "        snapshot_fork_dict[row.snapshot_id][row.year][0] += 1\n",
    "    \n",
    "    if row.month not in snapshot_fork_dict[row.snapshot_id][row.year][1]:\n",
    "        snapshot_fork_dict[row.snapshot_id][row.year][1][row.month] = 1\n",
    "    else:\n",
    "        snapshot_fork_dict[row.snapshot_id][row.year][1][row.month] += 1\n",
    "\n",
    "print(\"The number of project with forks:\", len(snapshot_fork_dict))\n",
    "for snapshot, revision_date_set in snapshot_fork_dict.items():\n",
    "    print(snapshot, len(revision_date_set))"
   ]
  },
  {
   "cell_type": "code",
   "execution_count": null,
   "metadata": {},
   "outputs": [],
   "source": [
    "snapshot_ids = []\n",
    "count_forks = []\n",
    "count_years_exist = [] # the number of years between the first and last forks\n",
    "count_months_exist = []\n",
    "mean_forks = []\n",
    "count_years_with_forks = []\n",
    "count_months_with_forks = []\n",
    "for snapshot, revision_date_set in snapshot_fork_dict.items():\n",
    "#     print(snapshot)\n",
    "    \n",
    "    forks_year = []\n",
    "    forks_month = []\n",
    "    for year, (frequency, revision_date_set_month) in revision_date_set.items():\n",
    "        forks_year.append((year, frequency))\n",
    "        for month, freq in revision_date_set_month.items():\n",
    "            forks_month.append((year, month, freq))\n",
    "    forks_year.sort()\n",
    "    forks_month.sort()\n",
    "    count_fork = 0\n",
    "    count_years_with_fork = 0\n",
    "    count_months_with_fork = 0\n",
    "    years = []\n",
    "    months = []\n",
    "    days = []\n",
    "    for year, frequency in forks_year:\n",
    "        years.append(year)\n",
    "        count_fork += frequency\n",
    "        count_years_with_fork += 1\n",
    "#         print(year, frequency)\n",
    "    for year, month, freq in forks_month:\n",
    "        months.append((year, month))\n",
    "        count_months_with_fork += 1\n",
    "    months_exist = 0\n",
    "    if months[-1][0] == months[0][0]:\n",
    "        months_exist = months[-1][1] - months[0][1] + 1\n",
    "    elif months[-1][1] < months[0][1]:\n",
    "        extra_months = 12 * (months[-1][0] - months[0][0]) - 1\n",
    "        months_exist = months[-1][1] + (12 - months[0][1] + 1) + extra_months\n",
    "    else:\n",
    "        extra_months = 12 * (months[-1][0] - months[0][0])\n",
    "        months_exist = months[-1][1] - months[0][1] + extra_months\n",
    "        \n",
    "    snapshot_ids.append(snapshot)\n",
    "    count_forks.append(count_fork)\n",
    "    count_years_with_forks.append(count_years_with_fork)\n",
    "    count_months_with_forks.append(count_months_with_fork)\n",
    "    years_exist = years[-1] - years[0] + 1\n",
    "    count_years_exist.append(years_exist)\n",
    "    count_months_exist.append(months_exist)\n",
    "    mean_forks.append(count_fork / years_exist)\n",
    "\n",
    "df_fork_features = pd.DataFrame.from_dict({\n",
    "    \"snapshot_id\": snapshot_ids,\n",
    "    \"count_forks\": count_forks,\n",
    "    \"mean_forks\": mean_forks,\n",
    "    \"count_years_with_forks\": count_years_with_forks,\n",
    "    \"count_months_with_forks\": count_months_with_forks,\n",
    "    \"count_years_exist\": count_years_exist,\n",
    "    \"count_months_exist\": count_months_exist\n",
    "}, orient='index').transpose()\n",
    "\n",
    "df_fork_features.head(16)\n",
    "\n",
    "# number of forks\n",
    "# mean number of forks by year\n",
    "# number of year with at least one fork\n",
    "# number of month with at least one fork\n",
    "# number of days with at least one fork\n",
    "# longest streak of years with at least one fork\n",
    "# longest streak of months with at least one fork\n"
   ]
  },
  {
   "cell_type": "code",
   "execution_count": null,
   "metadata": {},
   "outputs": [],
   "source": [
    "df_fork_features.to_csv(\"/home/sv/data/fork_pattern.csv\")"
   ]
  }
 ],
 "metadata": {
  "kernelspec": {
   "display_name": "Python 3",
   "language": "python",
   "name": "python3"
  },
  "language_info": {
   "codemirror_mode": {
    "name": "ipython",
    "version": 2
   },
   "file_extension": ".py",
   "mimetype": "text/x-python",
   "name": "python",
   "nbconvert_exporter": "python",
   "pygments_lexer": "ipython2",
   "version": "2.7.17"
  }
 },
 "nbformat": 4,
 "nbformat_minor": 2
}
