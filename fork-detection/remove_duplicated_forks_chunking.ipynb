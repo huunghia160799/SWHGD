{
 "cells": [
  {
   "cell_type": "code",
   "execution_count": 6,
   "metadata": {},
   "outputs": [],
   "source": [
    "import pandas as pd\n",
    "import numpy as np\n",
    "from datetime import datetime"
   ]
  },
  {
   "cell_type": "code",
   "execution_count": null,
   "metadata": {},
   "outputs": [],
   "source": [
    "for chunk in pd.read_csv('/mnt/17volume/data/snapshot_fork.csv.gz', compression='gzip', names=[\n",
    "    \"date\", \"fork_id\", \"snapshot_id\"], header=None, chunksize=100000):\n",
    "    revision_point = chunk\n",
    "    revision_point = revision_point.sort_values(by=['date'], ascending=False)\n",
    "    snapshot_dicts = dict()\n",
    "    for i, row in revision_point.iterrows():\n",
    "        snapshot_id = row['snapshot_id']\n",
    "        fork_snapshot_id = row['fork_id']\n",
    "        if snapshot_id not in snapshot_dicts:\n",
    "            snapshot_dicts[snapshot_id] = dict()\n",
    "        snapshot_dict = snapshot_dicts[snapshot_id]\n",
    "        year = datetime.utcfromtimestamp(row['date']).year\n",
    "        if year > 1970:\n",
    "            print(i, year)\n",
    "        if fork_snapshot_id not in snapshot_dict:\n",
    "            snapshot_dict[fork_snapshot_id] = (i, row['date'])\n",
    "        else:\n",
    "            if snapshot_dict[fork_snapshot_id][1] < row['date']:\n",
    "                snapshot_dict[fork_snapshot_id] = (i, row['date'])\n",
    "\n",
    "#     rows_to_keep = []\n",
    "#     for i, snapshot_dict in snapshot_dicts.items():\n",
    "#         for j, (fork_snapshot_row_idx, date) in snapshot_dict.items():\n",
    "#             rows_to_keep.append(fork_snapshot_row_idx)\n",
    "# #     print(rows_to_keep)\n",
    "#     print(\"Number of forks to keep\", len(rows_to_keep))\n",
    "#     snapshot_fork_revision_duplicated_removed = revision_point[revision_point.index.isin(rows_to_keep)].reset_index()\n",
    "#     print(snapshot_fork_revision_duplicated_removed.columns)\n",
    "# #     snapshot_fork_revision_duplicated_removed.to_csv(\"/home/sv/data/snapshot_fork_duplicates_removed.csv.gz\", compression=\"gzip\", mode=\"a\", index=False, header=False)"
   ]
  }
 ],
 "metadata": {
  "kernelspec": {
   "display_name": "Python 3",
   "language": "python",
   "name": "python3"
  },
  "language_info": {
   "codemirror_mode": {
    "name": "ipython",
    "version": 2
   },
   "file_extension": ".py",
   "mimetype": "text/x-python",
   "name": "python",
   "nbconvert_exporter": "python",
   "pygments_lexer": "ipython2",
   "version": "2.7.17"
  }
 },
 "nbformat": 4,
 "nbformat_minor": 2
}
