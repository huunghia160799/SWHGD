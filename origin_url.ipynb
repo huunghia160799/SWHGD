{
 "cells": [
  {
   "cell_type": "code",
   "execution_count": 5,
   "metadata": {},
   "outputs": [
    {
     "name": "stdout",
     "output_type": "stream",
     "text": [
      "1\n",
      "('module name:', '__main__')\n",
      "('parent process:', 2500)\n",
      "('process id:', 2784)\n",
      "2\n",
      "('module name:', '__main__')\n",
      "('parent process:', 2500)\n",
      "('snapshot_id:', 59786974)\n",
      "('process id:', 2789)\n",
      "('snapshot_id:', 59453738)\n",
      "('url:', 'https://github.com/r48patel/emodb')\n",
      "('url:', 'https://github.com/vulcand/vulcand')\n",
      "('first url:', 'https://github.com/r48patel/emodb')\n",
      "('first url:', 'https://github.com/vulcand/vulcand')\n",
      "('snapshot_id:', 59343080)\n",
      "('snapshot_id:', 60460480)\n",
      "('url:', 'https://github.com/caiqinzhou/kubernetes')\n",
      "('first url:', 'https://github.com/caiqinzhou/kubernetes')\n",
      "('snapshot_id:', 57965115)\n",
      "('url:', 'https://github.com/xiaoyan-qq/vtm')\n",
      "('first url:', 'https://github.com/xiaoyan-qq/vtm')\n",
      "('snapshot_id:', 57693849)\n",
      "('url:', 'https://github.com/linoplt/salt')\n",
      "('first url:', 'https://github.com/linoplt/salt')\n",
      "('snapshot_id:', 56561604)\n",
      "('url:', 'https://github.com/jgrandja/spring-security')\n",
      "('first url:', 'https://github.com/jgrandja/spring-security')\n",
      "('snapshot_id:', 58041108)\n",
      "PostgreSQL connection is closed\n"
     ]
    },
    {
     "name": "stderr",
     "output_type": "stream",
     "text": [
      "Process Process-9:\n",
      "Traceback (most recent call last):\n",
      "  File \"/usr/lib/python2.7/multiprocessing/process.py\", line 267, in _bootstrap\n",
      "    self.run()\n",
      "  File \"/usr/lib/python2.7/multiprocessing/process.py\", line 114, in run\n",
      "    self._target(*self._args, **self._kwargs)\n",
      "  File \"<ipython-input-5-619715aea85a>\", line 30, in get_url_from_file\n",
      "    cursor.execute(\"SELECT o.url FROM origin_visit as ov join origin as o on ov.origin = o.id WHERE %s = ov.snapshot_id;\", c)\n",
      "KeyboardInterrupt\n"
     ]
    },
    {
     "name": "stdout",
     "output_type": "stream",
     "text": [
      "PostgreSQL connection is closed\n"
     ]
    },
    {
     "name": "stderr",
     "output_type": "stream",
     "text": [
      "Process Process-10:\n",
      "Traceback (most recent call last):\n",
      "  File \"/usr/lib/python2.7/multiprocessing/process.py\", line 267, in _bootstrap\n",
      "    self.run()\n",
      "  File \"/usr/lib/python2.7/multiprocessing/process.py\", line 114, in run\n",
      "    self._target(*self._args, **self._kwargs)\n",
      "  File \"<ipython-input-5-619715aea85a>\", line 30, in get_url_from_file\n",
      "    cursor.execute(\"SELECT o.url FROM origin_visit as ov join origin as o on ov.origin = o.id WHERE %s = ov.snapshot_id;\", c)\n",
      "KeyboardInterrupt\n"
     ]
    }
   ],
   "source": [
    "import psycopg2\n",
    "import pandas as pd\n",
    "import os\n",
    "from multiprocessing import Process\n",
    "\n",
    "def get_url_from_file(filename):\n",
    "    info(filename)\n",
    "    try:\n",
    "        connection = psycopg2.connect(user = \"sv\",\n",
    "                                      password = \"password\",\n",
    "                                      host = \"127.0.0.1\",\n",
    "                                      port = \"5432\",\n",
    "                                      database = \"swhgd\")\n",
    "\n",
    "        cursor = connection.cursor()\n",
    "        # Print PostgreSQL Connection properties\n",
    "        #print ( connection.get_dsn_parameters(),\"\\n\")\n",
    "        check = {}\n",
    "        snapshots = set()\n",
    "        # Print PostgreSQL version\n",
    "        #cursor.execute(\"SELECT version();\")\n",
    "        #record = cursor.fetchone()\n",
    "        #print(\"You are connected to - \", record,\"\\n\")\n",
    "        cnt = 0\n",
    "        for lines in pd.read_csv('/mnt/17volume/data/temp.part.0' + filename, encoding='utf-8', header=None, chunksize=10000):\n",
    "            for line in lines.iterrows():\n",
    "                print('snapshot_id:',line[1][0])\n",
    "                c = []\n",
    "                c.append(int(line[1][0]))\n",
    "                cursor.execute(\"SELECT o.url FROM origin_visit as ov join origin as o on ov.origin = o.id WHERE %s = ov.snapshot_id;\", c)            \n",
    "                record = cursor.fetchone()\n",
    "                for rec in record:\n",
    "                    print('url:', rec)\n",
    "                print('first url:',record[0])\n",
    "                df = pd.DataFrame([record[0]], columns=[\"snapshot_url\"])\n",
    "                df.to_csv('/home/sv/snapshot_urls.csv', mode = 'a', header=False, index=False)\n",
    "    except (Exception, psycopg2.Error) as error :\n",
    "        print (\"Error while connecting to PostgreSQL\", error)\n",
    "    finally:\n",
    "        #closing database connection.\n",
    "        if connection:\n",
    "            cursor.close()\n",
    "            connection.close()\n",
    "            print(\"PostgreSQL connection is closed\")\n",
    "def info(title):\n",
    "    print(title)\n",
    "    print('module name:', __name__)\n",
    "    print('parent process:', os.getppid())\n",
    "    print('process id:', os.getpid())\n",
    "\n",
    "if __name__ == '__main__':\n",
    "    p1 = Process(target=get_url_from_file, args=('1'))\n",
    "    p1.start()\n",
    "    p2 = Process(target=get_url_from_file, args=('2'))\n",
    "    p2.start()"
   ]
  }
 ],
 "metadata": {
  "kernelspec": {
   "display_name": "Python 3",
   "language": "python",
   "name": "python3"
  },
  "language_info": {
   "codemirror_mode": {
    "name": "ipython",
    "version": 2
   },
   "file_extension": ".py",
   "mimetype": "text/x-python",
   "name": "python",
   "nbconvert_exporter": "python",
   "pygments_lexer": "ipython2",
   "version": "2.7.17"
  }
 },
 "nbformat": 4,
 "nbformat_minor": 2
}
