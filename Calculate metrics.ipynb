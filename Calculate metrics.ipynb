{
 "cells": [
  {
   "cell_type": "code",
   "execution_count": 1,
   "metadata": {},
   "outputs": [],
   "source": [
    "import numpy as np\n",
    "import pandas as pd\n",
    "import matplotlib.pyplot as plt\n",
    "import seaborn as sb"
   ]
  },
  {
   "cell_type": "code",
   "execution_count": 2,
   "metadata": {
    "scrolled": false
   },
   "outputs": [
    {
     "name": "stdout",
     "output_type": "stream",
     "text": [
      "<class 'pandas.core.frame.DataFrame'>\n",
      "Int64Index: 1185 entries, 0 to 999\n",
      "Data columns (total 4 columns):\n",
      " #   Column       Non-Null Count  Dtype \n",
      "---  ------       --------------  ----- \n",
      " 0   snapshot_id  1185 non-null   int64 \n",
      " 1   release_id   1185 non-null   object\n",
      " 2   date         1185 non-null   int64 \n",
      " 3   author       1185 non-null   int64 \n",
      "dtypes: int64(3), object(1)\n",
      "memory usage: 46.3+ KB\n"
     ]
    },
    {
     "data": {
      "text/html": [
       "<div>\n",
       "<style scoped>\n",
       "    .dataframe tbody tr th:only-of-type {\n",
       "        vertical-align: middle;\n",
       "    }\n",
       "\n",
       "    .dataframe tbody tr th {\n",
       "        vertical-align: top;\n",
       "    }\n",
       "\n",
       "    .dataframe thead th {\n",
       "        text-align: right;\n",
       "    }\n",
       "</style>\n",
       "<table border=\"1\" class=\"dataframe\">\n",
       "  <thead>\n",
       "    <tr style=\"text-align: right;\">\n",
       "      <th></th>\n",
       "      <th>snapshot_id</th>\n",
       "      <th>release_id</th>\n",
       "      <th>date</th>\n",
       "      <th>author</th>\n",
       "    </tr>\n",
       "  </thead>\n",
       "  <tbody>\n",
       "    <tr>\n",
       "      <th>0</th>\n",
       "      <td>10000002</td>\n",
       "      <td>ad50d6158d9db230c8d0865b332d7b84f0031d85</td>\n",
       "      <td>1354119368</td>\n",
       "      <td>43455</td>\n",
       "    </tr>\n",
       "    <tr>\n",
       "      <th>1</th>\n",
       "      <td>10000002</td>\n",
       "      <td>2f573123f570b29c55c903daee45728dea568611</td>\n",
       "      <td>1353621146</td>\n",
       "      <td>43455</td>\n",
       "    </tr>\n",
       "    <tr>\n",
       "      <th>2</th>\n",
       "      <td>10000002</td>\n",
       "      <td>99b403c381a05cb12867f31d1f1c84257bace0e3</td>\n",
       "      <td>1353620363</td>\n",
       "      <td>43455</td>\n",
       "    </tr>\n",
       "    <tr>\n",
       "      <th>3</th>\n",
       "      <td>10000002</td>\n",
       "      <td>445992fd94e836470065bf02dabbcfbb36eda8f9</td>\n",
       "      <td>1353029061</td>\n",
       "      <td>43455</td>\n",
       "    </tr>\n",
       "    <tr>\n",
       "      <th>4</th>\n",
       "      <td>10000002</td>\n",
       "      <td>689ca7d6ded7cfba285d0e6cbae1194a6b10c858</td>\n",
       "      <td>1352075828</td>\n",
       "      <td>207817</td>\n",
       "    </tr>\n",
       "  </tbody>\n",
       "</table>\n",
       "</div>"
      ],
      "text/plain": [
       "   snapshot_id                                release_id        date  author\n",
       "0     10000002  ad50d6158d9db230c8d0865b332d7b84f0031d85  1354119368   43455\n",
       "1     10000002  2f573123f570b29c55c903daee45728dea568611  1353621146   43455\n",
       "2     10000002  99b403c381a05cb12867f31d1f1c84257bace0e3  1353620363   43455\n",
       "3     10000002  445992fd94e836470065bf02dabbcfbb36eda8f9  1353029061   43455\n",
       "4     10000002  689ca7d6ded7cfba285d0e6cbae1194a6b10c858  1352075828  207817"
      ]
     },
     "execution_count": 2,
     "metadata": {},
     "output_type": "execute_result"
    }
   ],
   "source": [
    "projectReleaseDate_g = pd.read_csv(\"/mnt/17volume/data/snapshot_release_git_linh.csv\")\n",
    "projectReleaseDate_o = pd.read_csv(\"/mnt/17volume/data/snapshot_release_other_linh.csv\")\n",
    "projectReleaseDate = pd.concat([projectReleaseDate_g, projectReleaseDate_o]).drop_duplicates()\n",
    "projectReleaseDate.info()\n",
    "projectReleaseDate.head()"
   ]
  },
  {
   "cell_type": "code",
   "execution_count": 3,
   "metadata": {},
   "outputs": [
    {
     "data": {
      "text/html": [
       "<div>\n",
       "<style scoped>\n",
       "    .dataframe tbody tr th:only-of-type {\n",
       "        vertical-align: middle;\n",
       "    }\n",
       "\n",
       "    .dataframe tbody tr th {\n",
       "        vertical-align: top;\n",
       "    }\n",
       "\n",
       "    .dataframe thead th {\n",
       "        text-align: right;\n",
       "    }\n",
       "</style>\n",
       "<table border=\"1\" class=\"dataframe\">\n",
       "  <thead>\n",
       "    <tr style=\"text-align: right;\">\n",
       "      <th></th>\n",
       "      <th>snapshot_id</th>\n",
       "      <th>release_id</th>\n",
       "      <th>date</th>\n",
       "      <th>author</th>\n",
       "      <th>lagged</th>\n",
       "      <th>mean_cycle_time</th>\n",
       "    </tr>\n",
       "  </thead>\n",
       "  <tbody>\n",
       "    <tr>\n",
       "      <th>1</th>\n",
       "      <td>10000002</td>\n",
       "      <td>2f573123f570b29c55c903daee45728dea568611</td>\n",
       "      <td>1353621146</td>\n",
       "      <td>43455</td>\n",
       "      <td>1.354119e+09</td>\n",
       "      <td>498222.0</td>\n",
       "    </tr>\n",
       "    <tr>\n",
       "      <th>2</th>\n",
       "      <td>10000002</td>\n",
       "      <td>99b403c381a05cb12867f31d1f1c84257bace0e3</td>\n",
       "      <td>1353620363</td>\n",
       "      <td>43455</td>\n",
       "      <td>1.353621e+09</td>\n",
       "      <td>783.0</td>\n",
       "    </tr>\n",
       "    <tr>\n",
       "      <th>3</th>\n",
       "      <td>10000002</td>\n",
       "      <td>445992fd94e836470065bf02dabbcfbb36eda8f9</td>\n",
       "      <td>1353029061</td>\n",
       "      <td>43455</td>\n",
       "      <td>1.353620e+09</td>\n",
       "      <td>591302.0</td>\n",
       "    </tr>\n",
       "    <tr>\n",
       "      <th>4</th>\n",
       "      <td>10000002</td>\n",
       "      <td>689ca7d6ded7cfba285d0e6cbae1194a6b10c858</td>\n",
       "      <td>1352075828</td>\n",
       "      <td>207817</td>\n",
       "      <td>1.353029e+09</td>\n",
       "      <td>953233.0</td>\n",
       "    </tr>\n",
       "    <tr>\n",
       "      <th>5</th>\n",
       "      <td>10000002</td>\n",
       "      <td>c4da0906dbfa90c098b0c01ff57b49e09cb55af2</td>\n",
       "      <td>1352075650</td>\n",
       "      <td>207817</td>\n",
       "      <td>1.352076e+09</td>\n",
       "      <td>178.0</td>\n",
       "    </tr>\n",
       "  </tbody>\n",
       "</table>\n",
       "</div>"
      ],
      "text/plain": [
       "   snapshot_id                                release_id        date  author  \\\n",
       "1     10000002  2f573123f570b29c55c903daee45728dea568611  1353621146   43455   \n",
       "2     10000002  99b403c381a05cb12867f31d1f1c84257bace0e3  1353620363   43455   \n",
       "3     10000002  445992fd94e836470065bf02dabbcfbb36eda8f9  1353029061   43455   \n",
       "4     10000002  689ca7d6ded7cfba285d0e6cbae1194a6b10c858  1352075828  207817   \n",
       "5     10000002  c4da0906dbfa90c098b0c01ff57b49e09cb55af2  1352075650  207817   \n",
       "\n",
       "         lagged  mean_cycle_time  \n",
       "1  1.354119e+09         498222.0  \n",
       "2  1.353621e+09            783.0  \n",
       "3  1.353620e+09         591302.0  \n",
       "4  1.353029e+09         953233.0  \n",
       "5  1.352076e+09            178.0  "
      ]
     },
     "execution_count": 3,
     "metadata": {},
     "output_type": "execute_result"
    }
   ],
   "source": [
    "projectReleaseDate['lagged'] = projectReleaseDate.groupby(['snapshot_id'])['date'].shift(1)\n",
    "projectReleaseDate = projectReleaseDate[projectReleaseDate['lagged'].notnull()]\n",
    "projectReleaseDate['mean_cycle_time'] = projectReleaseDate['lagged'] - projectReleaseDate['date']\n",
    "projectReleaseDate.head()"
   ]
  },
  {
   "cell_type": "code",
   "execution_count": 4,
   "metadata": {},
   "outputs": [
    {
     "name": "stdout",
     "output_type": "stream",
     "text": [
      "<class 'pandas.core.frame.DataFrame'>\n",
      "Int64Index: 1050 entries, 1 to 999\n",
      "Data columns (total 6 columns):\n",
      " #   Column           Non-Null Count  Dtype  \n",
      "---  ------           --------------  -----  \n",
      " 0   snapshot_id      1050 non-null   int64  \n",
      " 1   release_id       1050 non-null   object \n",
      " 2   date             1050 non-null   int64  \n",
      " 3   author           1050 non-null   int64  \n",
      " 4   lagged           1050 non-null   float64\n",
      " 5   mean_cycle_time  1050 non-null   float64\n",
      "dtypes: float64(2), int64(3), object(1)\n",
      "memory usage: 57.4+ KB\n"
     ]
    },
    {
     "data": {
      "text/html": [
       "<div>\n",
       "<style scoped>\n",
       "    .dataframe tbody tr th:only-of-type {\n",
       "        vertical-align: middle;\n",
       "    }\n",
       "\n",
       "    .dataframe tbody tr th {\n",
       "        vertical-align: top;\n",
       "    }\n",
       "\n",
       "    .dataframe thead th {\n",
       "        text-align: right;\n",
       "    }\n",
       "</style>\n",
       "<table border=\"1\" class=\"dataframe\">\n",
       "  <thead>\n",
       "    <tr style=\"text-align: right;\">\n",
       "      <th></th>\n",
       "      <th>snapshot_id</th>\n",
       "      <th>mean_cycle_time</th>\n",
       "    </tr>\n",
       "  </thead>\n",
       "  <tbody>\n",
       "    <tr>\n",
       "      <th>0</th>\n",
       "      <td>1000047</td>\n",
       "      <td>2.262263e+06</td>\n",
       "    </tr>\n",
       "    <tr>\n",
       "      <th>1</th>\n",
       "      <td>1000048</td>\n",
       "      <td>5.072456e+06</td>\n",
       "    </tr>\n",
       "    <tr>\n",
       "      <th>2</th>\n",
       "      <td>1000174</td>\n",
       "      <td>1.074825e+07</td>\n",
       "    </tr>\n",
       "    <tr>\n",
       "      <th>3</th>\n",
       "      <td>10000002</td>\n",
       "      <td>4.087436e+05</td>\n",
       "    </tr>\n",
       "    <tr>\n",
       "      <th>4</th>\n",
       "      <td>10000080</td>\n",
       "      <td>4.618572e+06</td>\n",
       "    </tr>\n",
       "  </tbody>\n",
       "</table>\n",
       "</div>"
      ],
      "text/plain": [
       "   snapshot_id  mean_cycle_time\n",
       "0      1000047     2.262263e+06\n",
       "1      1000048     5.072456e+06\n",
       "2      1000174     1.074825e+07\n",
       "3     10000002     4.087436e+05\n",
       "4     10000080     4.618572e+06"
      ]
     },
     "execution_count": 4,
     "metadata": {},
     "output_type": "execute_result"
    }
   ],
   "source": [
    "projectCycleTime = projectReleaseDate[['snapshot_id','mean_cycle_time']].groupby('snapshot_id', as_index=False).mean()\n",
    "projectCycleTime.to_csv(\"mean_cycle_time_metrics.csv\", encoding='utf-8', index=False)\n",
    "projectReleaseDate.info()\n",
    "projectCycleTime.head()"
   ]
  },
  {
   "cell_type": "code",
   "execution_count": 5,
   "metadata": {},
   "outputs": [
    {
     "name": "stdout",
     "output_type": "stream",
     "text": [
      "<class 'pandas.core.frame.DataFrame'>\n",
      "Int64Index: 1079 entries, 0 to 95\n",
      "Data columns (total 5 columns):\n",
      " #   Column              Non-Null Count  Dtype  \n",
      "---  ------              --------------  -----  \n",
      " 0   snapshot_id         1079 non-null   int64  \n",
      " 1   total_revisions     1079 non-null   int64  \n",
      " 2   total_authors       1079 non-null   int64  \n",
      " 3   revision_frequency  1079 non-null   float64\n",
      " 4   author_frequency    1079 non-null   float64\n",
      "dtypes: float64(2), int64(3)\n",
      "memory usage: 50.6 KB\n"
     ]
    }
   ],
   "source": [
    "projectGitMetrics = pd.read_csv(\"/mnt/17volume/data/project-git-metrics.csv\")\n",
    "projectOtherMetrics = pd.read_csv(\"/mnt/17volume/data/project-other-metrics.csv\")\n",
    "\n",
    "projectMetrics = pd.concat([projectGitMetrics, projectOtherMetrics]).drop_duplicates()\n",
    "projectMetrics.info()"
   ]
  },
  {
   "cell_type": "code",
   "execution_count": 6,
   "metadata": {},
   "outputs": [
    {
     "name": "stdout",
     "output_type": "stream",
     "text": [
      "<class 'pandas.core.frame.DataFrame'>\n",
      "Int64Index: 146705 entries, 0 to 999\n",
      "Data columns (total 4 columns):\n",
      " #   Column       Non-Null Count   Dtype \n",
      "---  ------       --------------   ----- \n",
      " 0   snapshot_id  146705 non-null  int64 \n",
      " 1   id           146705 non-null  object\n",
      " 2   date         146705 non-null  int64 \n",
      " 3   author       146705 non-null  int64 \n",
      "dtypes: int64(3), object(1)\n",
      "memory usage: 5.6+ MB\n"
     ]
    }
   ],
   "source": [
    "# longevity\n",
    "rawData1 = pd.read_csv(\"/mnt/17volume/data/snapshot_revision_git_bao.csv\")\n",
    "rawData2 = pd.read_csv(\"/mnt/17volume/data/snapshot_revision_other_bao.csv\")\n",
    "rawData = pd.concat([rawData1, rawData2])\n",
    "rawData.info()"
   ]
  },
  {
   "cell_type": "code",
   "execution_count": 7,
   "metadata": {},
   "outputs": [
    {
     "name": "stdout",
     "output_type": "stream",
     "text": [
      "<class 'pandas.core.frame.DataFrame'>\n",
      "Int64Index: 1079 entries, 0 to 1078\n",
      "Data columns (total 6 columns):\n",
      " #   Column              Non-Null Count  Dtype  \n",
      "---  ------              --------------  -----  \n",
      " 0   snapshot_id         1079 non-null   int64  \n",
      " 1   total_revisions     1079 non-null   int64  \n",
      " 2   total_authors       1079 non-null   int64  \n",
      " 3   revision_frequency  1079 non-null   float64\n",
      " 4   author_frequency    1079 non-null   float64\n",
      " 5   longevity           1079 non-null   int64  \n",
      "dtypes: float64(2), int64(4)\n",
      "memory usage: 59.0 KB\n"
     ]
    }
   ],
   "source": [
    "table = rawData.sort_values(['snapshot_id', 'date'], ascending=[True, True])\n",
    "\n",
    "table2 = table[['snapshot_id','date']]\n",
    "\n",
    "table3 = table2.groupby(['snapshot_id'], as_index=True)['date'].agg(['first', 'last']).reset_index()\n",
    "\n",
    "table3['longevity'] = table3['last'] - table3['first']\n",
    "\n",
    "# table3['longevity'] = pd.to_timedelta(table3['longevity'], unit='ms')\n",
    "\n",
    "longevityMetric = table3[['snapshot_id','longevity']]\n",
    "\n",
    "longevityMetric.to_csv(\"longevity_metrics.csv\", encoding='utf-8', index=False)\n",
    "\n",
    "projectMetrics = pd.merge(projectMetrics, longevityMetric, on='snapshot_id', how='outer')\n",
    "\n",
    "projectMetrics.info()\n"
   ]
  },
  {
   "cell_type": "code",
   "execution_count": 8,
   "metadata": {},
   "outputs": [
    {
     "name": "stdout",
     "output_type": "stream",
     "text": [
      "<class 'pandas.core.frame.DataFrame'>\n",
      "Int64Index: 1079 entries, 0 to 1078\n",
      "Data columns (total 7 columns):\n",
      " #   Column              Non-Null Count  Dtype  \n",
      "---  ------              --------------  -----  \n",
      " 0   snapshot_id         1079 non-null   int64  \n",
      " 1   total_revisions     1079 non-null   int64  \n",
      " 2   total_authors       1079 non-null   int64  \n",
      " 3   revision_frequency  1079 non-null   float64\n",
      " 4   author_frequency    1079 non-null   float64\n",
      " 5   longevity           1079 non-null   int64  \n",
      " 6   mean_cycle_time     111 non-null    float64\n",
      "dtypes: float64(3), int64(4)\n",
      "memory usage: 67.4 KB\n"
     ]
    }
   ],
   "source": [
    "projectMetrics = pd.merge(projectMetrics, projectCycleTime, on='snapshot_id', how='outer')\n",
    "\n",
    "projectMetrics.info()"
   ]
  },
  {
   "cell_type": "code",
   "execution_count": 9,
   "metadata": {},
   "outputs": [
    {
     "data": {
      "image/png": "[encoded data removed]",
      "text/plain": [
       "<Figure size 432x288 with 1 Axes>"
      ]
     },
     "metadata": {
      "needs_background": "light"
     },
     "output_type": "display_data"
    }
   ],
   "source": [
    "projectMetrics.plot(kind='scatter',x='total_revisions', y='longevity',color='red')\n",
    "plt.show()"
   ]
  },
  {
   "cell_type": "code",
   "execution_count": 12,
   "metadata": {},
   "outputs": [
    {
     "name": "stdout",
     "output_type": "stream",
     "text": [
      "<class 'pandas.core.frame.DataFrame'>\n",
      "Int64Index: 111 entries, 4 to 1078\n",
      "Data columns (total 7 columns):\n",
      " #   Column              Non-Null Count  Dtype  \n",
      "---  ------              --------------  -----  \n",
      " 0   snapshot_id         111 non-null    int64  \n",
      " 1   total_revisions     111 non-null    int64  \n",
      " 2   total_authors       111 non-null    int64  \n",
      " 3   revision_frequency  111 non-null    float64\n",
      " 4   author_frequency    111 non-null    float64\n",
      " 5   longevity           111 non-null    int64  \n",
      " 6   mean_cycle_time     111 non-null    float64\n",
      "dtypes: float64(3), int64(4)\n",
      "memory usage: 6.9 KB\n",
      "                    total_revisions  total_authors  revision_frequency  \\\n",
      "total_revisions            1.000000       0.956799            0.557099   \n",
      "total_authors              0.956799       1.000000            0.512956   \n",
      "revision_frequency         0.557099       0.512956            1.000000   \n",
      "author_frequency           0.931928       0.903526            0.622674   \n",
      "longevity                  0.437691       0.432188            0.064174   \n",
      "mean_cycle_time            0.021851       0.024579           -0.014832   \n",
      "\n",
      "                    author_frequency  longevity  mean_cycle_time  \n",
      "total_revisions             0.931928   0.437691         0.021851  \n",
      "total_authors               0.903526   0.432188         0.024579  \n",
      "revision_frequency          0.622674   0.064174        -0.014832  \n",
      "author_frequency            1.000000   0.264898         0.046556  \n",
      "longevity                   0.264898   1.000000         0.020576  \n",
      "mean_cycle_time             0.046556   0.020576         1.000000  \n"
     ]
    },
    {
     "data": {
      "image/png": "[encoded data removed]",
      "text/plain": [
       "<Figure size 432x288 with 2 Axes>"
      ]
     },
     "metadata": {
      "needs_background": "light"
     },
     "output_type": "display_data"
    }
   ],
   "source": [
    "projectMetrics = projectMetrics[projectMetrics['mean_cycle_time'].notnull()]\n",
    "projectMetrics.info()\n",
    "del projectMetrics['snapshot_id']\n",
    "pearsonCorr = projectMetrics.corr(method='pearson')\n",
    "\n",
    "pearsonCorr.to_csv(\"pearson_correlation_coefficient.csv\", encoding='utf-8', index=True)\n",
    "\n",
    "print(pearsonCorr)\n",
    "\n",
    "sbplot = sb.heatmap(pearsonCorr, \n",
    "            xticklabels=pearsonCorr.columns,\n",
    "            yticklabels=pearsonCorr.columns,\n",
    "            cmap='RdBu_r',\n",
    "            annot=True,\n",
    "            linewidth=1)\n",
    "\n",
    "sbplot.get_figure().savefig(\"corr.png\")"
   ]
  },
  {
   "cell_type": "code",
   "execution_count": null,
   "metadata": {},
   "outputs": [],
   "source": []
  }
 ],
 "metadata": {
  "kernelspec": {
   "display_name": "Python 3",
   "language": "python",
   "name": "python3"
  },
  "language_info": {
   "codemirror_mode": {
    "name": "ipython",
    "version": 3
   },
   "file_extension": ".py",
   "mimetype": "text/x-python",
   "name": "python",
   "nbconvert_exporter": "python",
   "pygments_lexer": "ipython3",
   "version": "3.6.9"
  }
 },
 "nbformat": 4,
 "nbformat_minor": 4
}
