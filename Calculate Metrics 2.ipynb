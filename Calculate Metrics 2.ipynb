{
 "cells": [
  {
   "cell_type": "code",
   "execution_count": null,
   "metadata": {},
   "outputs": [],
   "source": [
    "import numpy as np\n",
    "import pandas as pd\n",
    "import matplotlib.pyplot as plt\n",
    "import seaborn as sb"
   ]
  },
  {
   "cell_type": "code",
   "execution_count": null,
   "metadata": {},
   "outputs": [],
   "source": [
    "longevityMetric = pd.read_csv(\"/mnt/17volume/data/snapshot_revision_git.csv.gz\", compression='gzip', chunksize=1000)\n",
    "longevityMetric\n",
    "\n",
    "for chunk in longevityMetric:\n",
    "    print(chunk)"
   ]
  },
  {
   "cell_type": "code",
   "execution_count": null,
   "metadata": {},
   "outputs": [],
   "source": [
    "#longevityMetric = longevityMetric[[\"snapshot_id\",\"date\"]]\n",
    "#longevityMetric.info()"
   ]
  },
  {
   "cell_type": "code",
   "execution_count": null,
   "metadata": {},
   "outputs": [],
   "source": [
    "#longevityMetric = longevityMetric.sort_values(['snapshot_id', 'date'], ascending=[True, True])\n",
    "\n",
    "#longevityMetric.info()"
   ]
  },
  {
   "cell_type": "code",
   "execution_count": null,
   "metadata": {},
   "outputs": [],
   "source": [
    "#longevityMetric = longevityMetric.groupby(['snapshot_id'], as_index=True)['date'].agg(['first', 'last']).reset_index()\n",
    "\n",
    "#longevityMetric['longevity'] = longevityMetric['last'] - longevityMetric['first']\n",
    "\n",
    "# table3['longevity'] = pd.to_timedelta(table3['longevity'], unit='ms')\n",
    "\n",
    "#longevityMetric = longevityMetric[['snapshot_id','longevity']]\n",
    "\n",
    "#longevityMetric.to_csv(\"longevity_metrics.csv\", encoding='utf-8', index=False)\n",
    "\n",
    "#projectMetrics = pd.merge(projectMetrics, longevityMetric, on='snapshot_id', how='outer')\n",
    "\n",
    "#projectMetrics.info()\n",
    "#longevityMetric.info()"
   ]
  },
  {
   "cell_type": "code",
   "execution_count": null,
   "metadata": {},
   "outputs": [],
   "source": [
    "#projectReleaseDate = pd.read_csv(\"/mnt/17volume/data/snapshot_revision_git_bao.csv.gz\", compression='gzip')\n",
    "#projectReleaseDate.info()"
   ]
  },
  {
   "cell_type": "code",
   "execution_count": null,
   "metadata": {},
   "outputs": [],
   "source": [
    "#projectReleaseDate = projectReleaseDate[[\"snapshot_id\",\"release_date\"]]\n",
    "#projectReleaseDate.info()"
   ]
  },
  {
   "cell_type": "code",
   "execution_count": null,
   "metadata": {},
   "outputs": [],
   "source": [
    "#projectReleaseDate = projectReleaseDate.sort_values(['snapshot_id', 'release_date'], ascending=[True, True])\n",
    "#projectReleaseDate= projectReleaseDate[projectReleaseDate['release_date'].notnull()]\n",
    "#projectReleaseDate['lagged'] = projectReleaseDate.groupby(['snapshot_id'])['release_date'].shift(1)\n",
    "#projectReleaseDate = projectReleaseDate[projectReleaseDate['lagged'].notnull()]\n",
    "#projectReleaseDate['mean_cycle_time'] = -projectReleaseDate['lagged'] + projectReleaseDate['release_date']\n",
    "#projectReleaseDate.head()\n",
    "#projectReleaseDate.info()"
   ]
  },
  {
   "cell_type": "code",
   "execution_count": null,
   "metadata": {},
   "outputs": [],
   "source": [
    "#projectCycleTime = projectReleaseDate[['snapshot_id','mean_cycle_time']].groupby('snapshot_id', as_index=False).mean()\n",
    "#projectCycleTime.to_csv(\"mean_cycle_time_metrics.csv\", encoding='utf-8', index=False)\n",
    "#projectReleaseDate.info()\n",
    "#projectCycleTime.head()"
   ]
  },
  {
   "cell_type": "code",
   "execution_count": null,
   "metadata": {},
   "outputs": [],
   "source": []
  }
 ],
 "metadata": {
  "kernelspec": {
   "display_name": "Python 3",
   "language": "python",
   "name": "python3"
  },
  "language_info": {
   "codemirror_mode": {
    "name": "ipython",
    "version": 2
   },
   "file_extension": ".py",
   "mimetype": "text/x-python",
   "name": "python",
   "nbconvert_exporter": "python",
   "pygments_lexer": "ipython2",
   "version": "2.7.17"
  }
 },
 "nbformat": 4,
 "nbformat_minor": 4
}
